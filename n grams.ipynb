{
 "cells": [
  {
   "cell_type": "code",
   "execution_count": 91,
   "id": "83b02403",
   "metadata": {},
   "outputs": [],
   "source": [
    "import csv\n",
    "import math\n",
    "import matplotlib.pyplot as plt\n",
    "import numpy\n",
    "import random\n",
    "import sklearn\n",
    "import string\n",
    "from collections import defaultdict\n",
    "from nltk.stem.porter import *\n",
    "from sklearn import linear_model\n",
    "from sklearn.manifold import TSNE\n",
    "from sklearn.model_selection import train_test_split"
   ]
  },
  {
   "cell_type": "code",
   "execution_count": 92,
   "id": "fc9f0dff",
   "metadata": {},
   "outputs": [],
   "source": [
    "# convert csv to list of dicts\n",
    "with open('final_df.csv') as f:\n",
    "    data = [{k: v for k, v in row.items()} for row in csv.DictReader(f, skipinitialspace=True)]"
   ]
  },
  {
   "cell_type": "code",
   "execution_count": 93,
   "id": "c197de93",
   "metadata": {},
   "outputs": [
    {
     "data": {
      "text/plain": [
       "{'uid_x': '255938',\n",
       " 'profile': 'DesolatePsyche',\n",
       " 'anime_uid': '34096',\n",
       " 'text': 'First things first My reviews system is explained on a blog entry Which can be found through my profile   Im going to keep this review more of a opinion of Gintamas overall and then this season specific  Anyhow What I have always loved regarding Gintama is its content of everything I love the comedy its absurd random can be vile dirty sweet anyhow everything Have laughed countless times in this franchise Also the humor they have also is heavily reference based aka parodies of different anime shows manga live stuff real world anime production and so on Anyhow comedyparody side of this franchise i absolutely love  Now nd side of this show is the serious dramas epic battle shounens and so on There are arcs that are fully comedy arcs that are fully serious and mixtures of both Serious side is usually quite dramatic and managed to somewhat tear me up now and then Whilst the action sequences are absolute bliss as well They are just presented in a really cool manner And extra points when sometime the add artistic element  Of course it has its sliceoflife side and pseudoromance Those are weaker side but aint the focus But when sometimes those are the focus then they are done in enjoyable method  To sum up overall gintamas I love the serious side and the silly side  Art and sound voice actingostoped is something I loved in all gintamas across the board They just click with me bliss to look at bliss to hear Music oped specifically are hyped up and upbeat which generally I dont like but gintama is the exception where I love them Art is cool sometimes artistic sometimes simple It has a bit of everything that makes it enjoyable And gore is absolutely satisfying as well well the blood to be specific  Well the serious side of stories in this anime are superb in my opinion or the overall idea of story that moves now and then But wouldnt say comedic side of series story is any worse  When at times comedy side has story Its usually quite enjoyable  Regarding characters I dont have much to say other than that variety stereotypes of offstereotypes is very large As well characters with depth but as well with oddity is as well in great selection Main team Gintoki the lazy dirty slob with superb second side of seriousness and caring about friendsallies Shinpachi the poor straightmanact sidekick who adds great value to the team Kagura the battle race girl that doesnt act like girl almost at all or in another words a dirty slob girl in a sense   Now to this season specific  I found it a bit disappointing Mainly because usually in gintama we have overly serious arcs or fully comedic whilst this one had a bit of mixture of both which somewhat ruined the experience Plus the artistic presentation felt this time around a bit lacking Maybe because of another studio who knows But anyhow it didnt feel as superb Rather than gintama it felt as watching just another good battle shounen anime in modern day with simplified animation  I mean it definitely was not any bad just didnt have the punch Gintama usually has Might be because it was short series maybe because it focused too much moving on with story Itll be shame to see it finalized in this manner  Rest I pretty much loved as usual in Gintama franchise',\n",
       " 'score_x': '8',\n",
       " 'scores': \"{'Overall': '8', 'Story': '8', 'Animation': '8', 'Sound': '10', 'Character': '9', 'Enjoyment': '8'}\",\n",
       " 'text len': '3229',\n",
       " 'uid_y': '34096',\n",
       " 'title': 'Gintama.',\n",
       " 'genre': \"['Action', 'Comedy', 'Historical', 'Parody', 'Samurai', 'Sci-Fi', 'Shounen']\",\n",
       " 'episodes': '12.0',\n",
       " 'members': '139309',\n",
       " 'popularity': '800',\n",
       " 'ranked': '15.0',\n",
       " 'score_y': '8.94'}"
      ]
     },
     "execution_count": 93,
     "metadata": {},
     "output_type": "execute_result"
    }
   ],
   "source": [
    "data[0]"
   ]
  },
  {
   "cell_type": "code",
   "execution_count": 110,
   "id": "b48a87c1",
   "metadata": {},
   "outputs": [],
   "source": [
    "train_data, test_data = train_test_split(data, test_size=0.3, random_state=0)"
   ]
  },
  {
   "cell_type": "code",
   "execution_count": 111,
   "id": "36231f24",
   "metadata": {},
   "outputs": [],
   "source": [
    "# remove capitalization (and punctuation)\n",
    "wordCount = defaultdict(int)\n",
    "punctuation = set(string.punctuation)\n",
    "for d in train_data:\n",
    "    r = ''.join([c for c in d['text'].lower() if not c in punctuation])\n",
    "    ws = r.split()\n",
    "    for w in ws:\n",
    "        wordCount[w] += 1\n",
    "\n",
    "counts = [(wordCount[w], w) for w in wordCount]\n",
    "counts.sort()\n",
    "counts.reverse()"
   ]
  },
  {
   "cell_type": "code",
   "execution_count": 112,
   "id": "4c65f8e6",
   "metadata": {},
   "outputs": [],
   "source": [
    "# 1000 most popular words (bag of words)\n",
    "words = [x[1] for x in counts[:1000]]"
   ]
  },
  {
   "cell_type": "code",
   "execution_count": 113,
   "id": "7f934f86",
   "metadata": {},
   "outputs": [],
   "source": [
    "wordId = dict(zip(words, range(len(words))))\n",
    "wordSet = set(words)"
   ]
  },
  {
   "cell_type": "markdown",
   "id": "8fd2cdc7",
   "metadata": {},
   "source": [
    "# Predictive Task"
   ]
  },
  {
   "cell_type": "markdown",
   "id": "93bddaa6",
   "metadata": {},
   "source": [
    "## unigram"
   ]
  },
  {
   "cell_type": "code",
   "execution_count": 157,
   "id": "ea565934",
   "metadata": {},
   "outputs": [],
   "source": [
    "# unigram\n",
    "def featureUni(datum):\n",
    "    feat = [0]*len(words)\n",
    "    r = ''.join([c for c in datum['text'].lower() if not c in punctuation])\n",
    "    for w in r.split():\n",
    "        if w in words:\n",
    "            feat[wordId[w]] += 1\n",
    "    #feat.append(int(datum['text len']))\n",
    "    feat.append(1) # offset\n",
    "    return feat"
   ]
  },
  {
   "cell_type": "code",
   "execution_count": 158,
   "id": "f0257482",
   "metadata": {},
   "outputs": [],
   "source": [
    "X = [featureUni(d) for d in data]\n",
    "y = [d['score_x'] for d in data]"
   ]
  },
  {
   "cell_type": "code",
   "execution_count": 159,
   "id": "3bdae26c",
   "metadata": {},
   "outputs": [],
   "source": [
    "# 70/30 train/test split. convert y_data (scores) into ints\n",
    "X_train, X_test, y_train, y_test = train_test_split(X, y, test_size=0.3, random_state=0)\n",
    "y_train = list(map(int, y_train))\n",
    "y_test = list(map(int, y_test))"
   ]
  },
  {
   "cell_type": "code",
   "execution_count": 160,
   "id": "46b04cea",
   "metadata": {},
   "outputs": [],
   "source": [
    "# Regularized regression\n",
    "clf = linear_model.Ridge(1.0, fit_intercept=False) # MSE + 1.0 l2\n",
    "clf.fit(X_train, y_train)\n",
    "theta = clf.coef_"
   ]
  },
  {
   "cell_type": "code",
   "execution_count": 161,
   "id": "1dc97d6f",
   "metadata": {},
   "outputs": [],
   "source": [
    "predictions = clf.predict(X_test)"
   ]
  },
  {
   "cell_type": "code",
   "execution_count": 162,
   "id": "18be28ef",
   "metadata": {},
   "outputs": [],
   "source": [
    "def MSE(predictions, labels):\n",
    "    differences = [(x-y)**2 for x,y in zip(predictions,labels)]\n",
    "    return sum(differences) / len(differences)"
   ]
  },
  {
   "cell_type": "code",
   "execution_count": 163,
   "id": "053efc64",
   "metadata": {},
   "outputs": [
    {
     "data": {
      "text/plain": [
       "3.276294261479062"
      ]
     },
     "execution_count": 163,
     "metadata": {},
     "output_type": "execute_result"
    }
   ],
   "source": [
    "MSE(predictions, y_test)"
   ]
  },
  {
   "cell_type": "code",
   "execution_count": 164,
   "id": "463c2960",
   "metadata": {},
   "outputs": [],
   "source": [
    "wordSort = list(zip(theta[:-1], words))\n",
    "wordSort.sort()"
   ]
  },
  {
   "cell_type": "code",
   "execution_count": 165,
   "id": "d8b1573d",
   "metadata": {},
   "outputs": [
    {
     "data": {
      "text/plain": [
       "[(-0.5133115985652523, 'worst'),\n",
       " (-0.4725533892790652, 'horrible'),\n",
       " (-0.3583991983390645, 'poor'),\n",
       " (-0.35832972524246315, 'terrible'),\n",
       " (-0.309473410861833, 'mediocre')]"
      ]
     },
     "execution_count": 165,
     "metadata": {},
     "output_type": "execute_result"
    }
   ],
   "source": [
    "# most \"negative\" unigrams\n",
    "wordSort[:5]"
   ]
  },
  {
   "cell_type": "code",
   "execution_count": 166,
   "id": "2a3d4fc9",
   "metadata": {},
   "outputs": [
    {
     "data": {
      "text/plain": [
       "[(0.19057358697789564, 'highly'),\n",
       " (0.21364818723597845, 'awesome'),\n",
       " (0.22965326082466814, 'amazing'),\n",
       " (0.28205484682399, 'outstanding'),\n",
       " (0.40580663178884646, 'masterpiece')]"
      ]
     },
     "execution_count": 166,
     "metadata": {},
     "output_type": "execute_result"
    }
   ],
   "source": [
    "# most \"positive\" unigrams\n",
    "wordSort[-5:]"
   ]
  },
  {
   "cell_type": "code",
   "execution_count": 167,
   "id": "41a61be3",
   "metadata": {},
   "outputs": [],
   "source": [
    "def accuracy(predictions, labels):\n",
    "    correct = 0\n",
    "    for i in range(len(predictions)):\n",
    "        if predictions[i] == labels[i]:\n",
    "            correct += 1\n",
    "    return correct/len(labels)"
   ]
  },
  {
   "cell_type": "code",
   "execution_count": 168,
   "id": "a3ec26d7",
   "metadata": {},
   "outputs": [
    {
     "data": {
      "text/plain": [
       "0.2042343446725917"
      ]
     },
     "execution_count": 168,
     "metadata": {},
     "output_type": "execute_result"
    }
   ],
   "source": [
    "# convert predictions (floats) to int and check accuracy\n",
    "predictions = list(map(int, predictions))\n",
    "accuracy(predictions, y_test)"
   ]
  },
  {
   "cell_type": "code",
   "execution_count": 169,
   "id": "a3160d7a",
   "metadata": {},
   "outputs": [],
   "source": [
    "#0.20456634998467668"
   ]
  },
  {
   "cell_type": "markdown",
   "id": "7ebd8c57",
   "metadata": {},
   "source": [
    "## bigram"
   ]
  },
  {
   "cell_type": "code",
   "execution_count": 20,
   "id": "eb759cf7",
   "metadata": {},
   "outputs": [],
   "source": [
    "wordCount = defaultdict(int)\n",
    "punctuation = set(string.punctuation)\n",
    "for d in train_data:\n",
    "    r = ''.join([c for c in d['text'].lower() if not c in punctuation])\n",
    "    ws = r.split()\n",
    "    ws2 = [' '.join(x) for x in list(zip(ws[:-1],ws[1:]))]\n",
    "    for w in ws2:\n",
    "        wordCount[w] += 1\n",
    "\n",
    "counts = [(wordCount[w], w) for w in wordCount]\n",
    "counts.sort()\n",
    "counts.reverse()"
   ]
  },
  {
   "cell_type": "code",
   "execution_count": 21,
   "id": "021fb264",
   "metadata": {},
   "outputs": [],
   "source": [
    "words = [x[1] for x in counts[:1000]]"
   ]
  },
  {
   "cell_type": "code",
   "execution_count": 22,
   "id": "6708eb4f",
   "metadata": {},
   "outputs": [],
   "source": [
    "wordId = dict(zip(words, range(len(words))))\n",
    "wordSet = set(words)"
   ]
  },
  {
   "cell_type": "code",
   "execution_count": 23,
   "id": "cb5e474d",
   "metadata": {},
   "outputs": [],
   "source": [
    "def featureBi(datum):\n",
    "    feat = [0]*len(words)\n",
    "    r = ''.join([c for c in datum['text'].lower() if not c in punctuation])\n",
    "    ws = r.split()\n",
    "    ws2 = [' '.join(x) for x in list(zip(ws[:-1],ws[1:]))]\n",
    "    for w in ws2:\n",
    "        if w in words:\n",
    "            feat[wordId[w]] += 1\n",
    "    feat.append(1) #offset\n",
    "    return feat"
   ]
  },
  {
   "cell_type": "code",
   "execution_count": 24,
   "id": "e6162186",
   "metadata": {},
   "outputs": [],
   "source": [
    "X = [featureBi(d) for d in data]"
   ]
  },
  {
   "cell_type": "code",
   "execution_count": 25,
   "id": "ec4c8122",
   "metadata": {},
   "outputs": [],
   "source": [
    "X_train, X_test = train_test_split(X, test_size=0.3, random_state=0)"
   ]
  },
  {
   "cell_type": "code",
   "execution_count": 26,
   "id": "5480dba2",
   "metadata": {},
   "outputs": [],
   "source": [
    "# Regularized regression\n",
    "clf = linear_model.Ridge(1.0, fit_intercept=False) # MSE + 1.0 l2\n",
    "clf.fit(X_train, y_train)\n",
    "theta = clf.coef_"
   ]
  },
  {
   "cell_type": "code",
   "execution_count": 27,
   "id": "232aa0a3",
   "metadata": {},
   "outputs": [],
   "source": [
    "predictions = clf.predict(X_test)"
   ]
  },
  {
   "cell_type": "code",
   "execution_count": 28,
   "id": "ccdcb37e",
   "metadata": {},
   "outputs": [
    {
     "data": {
      "text/plain": [
       "3.7780989482847462"
      ]
     },
     "execution_count": 28,
     "metadata": {},
     "output_type": "execute_result"
    }
   ],
   "source": [
    "MSE(predictions, y_test)"
   ]
  },
  {
   "cell_type": "code",
   "execution_count": 29,
   "id": "0d2da442",
   "metadata": {},
   "outputs": [],
   "source": [
    "wordSort = list(zip(theta[:-1], words))\n",
    "wordSort.sort()"
   ]
  },
  {
   "cell_type": "code",
   "execution_count": 30,
   "id": "835f696d",
   "metadata": {},
   "outputs": [
    {
     "data": {
      "text/plain": [
       "[(-0.9575741892596256, 'the worst'),\n",
       " (-0.3796670740328128, 'not even'),\n",
       " (-0.32019151770049364, 'with no'),\n",
       " (-0.2695281476757664, 'nothing to'),\n",
       " (-0.2521810385095527, 'have no')]"
      ]
     },
     "execution_count": 30,
     "metadata": {},
     "output_type": "execute_result"
    }
   ],
   "source": [
    "# most \"negative\" bigrams\n",
    "wordSort[:5]"
   ]
  },
  {
   "cell_type": "code",
   "execution_count": 31,
   "id": "c18db8a4",
   "metadata": {},
   "outputs": [
    {
     "data": {
      "text/plain": [
       "[(0.2479479087536673, 'makes you'),\n",
       " (0.24795018471943683, 'really enjoyed'),\n",
       " (0.2524566776933574, 'the best'),\n",
       " (0.2880505334989174, 'is great'),\n",
       " (0.33360213766528596, 'i loved')]"
      ]
     },
     "execution_count": 31,
     "metadata": {},
     "output_type": "execute_result"
    }
   ],
   "source": [
    "# most \"positive\" bigrams\n",
    "wordSort[-5:]"
   ]
  },
  {
   "cell_type": "code",
   "execution_count": 32,
   "id": "ed51ccb0",
   "metadata": {},
   "outputs": [
    {
     "data": {
      "text/plain": [
       "0.1881703953417101"
      ]
     },
     "execution_count": 32,
     "metadata": {},
     "output_type": "execute_result"
    }
   ],
   "source": [
    "# convert predictions (floats) to int and check accuracy\n",
    "predictions = list(map(int, predictions))\n",
    "accuracy(predictions, y_test)"
   ]
  },
  {
   "cell_type": "markdown",
   "id": "47308836",
   "metadata": {},
   "source": [
    "## trigrams"
   ]
  },
  {
   "cell_type": "code",
   "execution_count": 33,
   "id": "36bd852b",
   "metadata": {},
   "outputs": [],
   "source": [
    "wordCount = defaultdict(int)\n",
    "punctuation = set(string.punctuation)\n",
    "for d in train_data:\n",
    "    r = ''.join([c for c in d['text'].lower() if not c in punctuation])\n",
    "    ws = r.split()\n",
    "    ws3 = [' '.join(x) for x in list(zip(ws[:-2],ws[1:-1],ws[2:]))]\n",
    "    for w in ws3:\n",
    "        wordCount[w] += 1\n",
    "\n",
    "counts = [(wordCount[w], w) for w in wordCount]\n",
    "counts.sort()\n",
    "counts.reverse()"
   ]
  },
  {
   "cell_type": "code",
   "execution_count": 34,
   "id": "dfd0662f",
   "metadata": {},
   "outputs": [],
   "source": [
    "words = [x[1] for x in counts[:1000]]"
   ]
  },
  {
   "cell_type": "code",
   "execution_count": 35,
   "id": "d6b19446",
   "metadata": {},
   "outputs": [],
   "source": [
    "wordId = dict(zip(words, range(len(words))))\n",
    "wordSet = set(words)"
   ]
  },
  {
   "cell_type": "code",
   "execution_count": 36,
   "id": "9fbc7ad4",
   "metadata": {},
   "outputs": [],
   "source": [
    "def featureTri(datum):\n",
    "    feat = [0]*len(words)\n",
    "    r = ''.join([c for c in datum['text'].lower() if not c in punctuation])\n",
    "    ws = r.split()\n",
    "    ws3 = [' '.join(x) for x in list(zip(ws[:-2],ws[1:-1],ws[2:]))]\n",
    "    for w in ws3:\n",
    "        if w in words:\n",
    "            feat[wordId[w]] += 1\n",
    "    feat.append(1) #offset\n",
    "    return feat"
   ]
  },
  {
   "cell_type": "code",
   "execution_count": 37,
   "id": "ea2061d3",
   "metadata": {},
   "outputs": [],
   "source": [
    "X = [featureTri(d) for d in data]"
   ]
  },
  {
   "cell_type": "code",
   "execution_count": 38,
   "id": "6c6369cf",
   "metadata": {},
   "outputs": [],
   "source": [
    "X_train, X_test = train_test_split(X, test_size=0.3, random_state=0)"
   ]
  },
  {
   "cell_type": "code",
   "execution_count": 39,
   "id": "d8845639",
   "metadata": {},
   "outputs": [],
   "source": [
    "clf = linear_model.Ridge(1.0, fit_intercept=False) # MSE + 1.0 l2\n",
    "clf.fit(X_train, y_train)\n",
    "theta = clf.coef_"
   ]
  },
  {
   "cell_type": "code",
   "execution_count": 40,
   "id": "c8b77b07",
   "metadata": {},
   "outputs": [],
   "source": [
    "predictions = clf.predict(X_test)"
   ]
  },
  {
   "cell_type": "code",
   "execution_count": 41,
   "id": "723142bf",
   "metadata": {},
   "outputs": [
    {
     "data": {
      "text/plain": [
       "4.204311426628811"
      ]
     },
     "execution_count": 41,
     "metadata": {},
     "output_type": "execute_result"
    }
   ],
   "source": [
    "MSE(predictions, y_test)"
   ]
  },
  {
   "cell_type": "code",
   "execution_count": 42,
   "id": "b5fe966b",
   "metadata": {},
   "outputs": [],
   "source": [
    "wordSort = list(zip(theta[:-1], words))\n",
    "wordSort.sort()"
   ]
  },
  {
   "cell_type": "code",
   "execution_count": 43,
   "id": "f1c6cb24",
   "metadata": {},
   "outputs": [
    {
     "data": {
      "text/plain": [
       "[(-1.9031303626592342, 'of the worst'),\n",
       " (-0.9482532436736707, 'dont get me'),\n",
       " (-0.7057139648198819, 'the only reason'),\n",
       " (-0.5948573378628006, 'little to no'),\n",
       " (-0.5018927378487092, 'at all the')]"
      ]
     },
     "execution_count": 43,
     "metadata": {},
     "output_type": "execute_result"
    }
   ],
   "source": [
    "# most \"negative\" trigrams\n",
    "wordSort[:5]"
   ]
  },
  {
   "cell_type": "code",
   "execution_count": 44,
   "id": "bf88eccb",
   "metadata": {},
   "outputs": [
    {
     "data": {
      "text/plain": [
       "[(0.6256082556262265, 'my favorite anime'),\n",
       " (0.6316597443377329, 'the edge of'),\n",
       " (0.7440137029718403, 'i highly recommend'),\n",
       " (0.804054129001378, 'get me wrong'),\n",
       " (0.9671008291837964, 'a must watch')]"
      ]
     },
     "execution_count": 44,
     "metadata": {},
     "output_type": "execute_result"
    }
   ],
   "source": [
    "# most \"positive\" trigrams\n",
    "wordSort[-5:]"
   ]
  },
  {
   "cell_type": "code",
   "execution_count": 45,
   "id": "1497ed43",
   "metadata": {
    "scrolled": true
   },
   "outputs": [
    {
     "data": {
      "text/plain": [
       "0.1741240167534988"
      ]
     },
     "execution_count": 45,
     "metadata": {},
     "output_type": "execute_result"
    }
   ],
   "source": [
    "# convert predictions (floats) to int and check accuracy\n",
    "predictions = list(map(int, predictions))\n",
    "accuracy(predictions, y_test)"
   ]
  },
  {
   "cell_type": "markdown",
   "id": "7bc2f58e",
   "metadata": {},
   "source": [
    "## unigrams, bigrams, and trigrams"
   ]
  },
  {
   "cell_type": "code",
   "execution_count": 46,
   "id": "f5012921",
   "metadata": {},
   "outputs": [],
   "source": [
    "wordCount = defaultdict(int)\n",
    "punctuation = set(string.punctuation)\n",
    "for d in train_data:\n",
    "    r = ''.join([c for c in d['text'].lower() if not c in punctuation])\n",
    "    ws = r.split()\n",
    "    ws2 = [' '.join(x) for x in list(zip(ws[:-1],ws[1:]))]\n",
    "    ws3 = [' '.join(x) for x in list(zip(ws[:-2],ws[1:-1],ws[2:]))]\n",
    "    for w in ws + ws2 + ws3:\n",
    "        wordCount[w] += 1\n",
    "\n",
    "counts = [(wordCount[w], w) for w in wordCount]\n",
    "counts.sort()\n",
    "counts.reverse()"
   ]
  },
  {
   "cell_type": "code",
   "execution_count": 47,
   "id": "eb752536",
   "metadata": {},
   "outputs": [],
   "source": [
    "words = [x[1] for x in counts[:1000]]"
   ]
  },
  {
   "cell_type": "code",
   "execution_count": 48,
   "id": "43998182",
   "metadata": {},
   "outputs": [],
   "source": [
    "wordId = dict(zip(words, range(len(words))))\n",
    "wordSet = set(words)"
   ]
  },
  {
   "cell_type": "code",
   "execution_count": 49,
   "id": "a4e56065",
   "metadata": {},
   "outputs": [],
   "source": [
    "def feature(datum):\n",
    "    feat = [0]*len(words)\n",
    "    r = ''.join([c for c in datum['text'].lower() if not c in punctuation])\n",
    "    ws = r.split()\n",
    "    ws2 = [' '.join(x) for x in list(zip(ws[:-1],ws[1:]))]\n",
    "    ws3 = [' '.join(x) for x in list(zip(ws[:-2],ws[1:-1],ws[2:]))]\n",
    "    for w in ws + ws2 + ws3:\n",
    "        if w in words:\n",
    "            feat[wordId[w]] += 1\n",
    "    feat.append(1) #offset\n",
    "    return feat"
   ]
  },
  {
   "cell_type": "code",
   "execution_count": 50,
   "id": "c4229637",
   "metadata": {},
   "outputs": [],
   "source": [
    "X = [feature(d) for d in data]"
   ]
  },
  {
   "cell_type": "code",
   "execution_count": 51,
   "id": "e8d12b65",
   "metadata": {},
   "outputs": [],
   "source": [
    "X_train, X_test = train_test_split(X, test_size=0.3, random_state=0)"
   ]
  },
  {
   "cell_type": "code",
   "execution_count": 52,
   "id": "b51fc805",
   "metadata": {},
   "outputs": [],
   "source": [
    "clf = linear_model.Ridge(1.0, fit_intercept=False) # MSE + 1.0 l2\n",
    "clf.fit(X_train, y_train)\n",
    "theta = clf.coef_"
   ]
  },
  {
   "cell_type": "code",
   "execution_count": 53,
   "id": "2964aee5",
   "metadata": {},
   "outputs": [],
   "source": [
    "predictions = clf.predict(X_test)"
   ]
  },
  {
   "cell_type": "code",
   "execution_count": 54,
   "id": "66a5707b",
   "metadata": {},
   "outputs": [
    {
     "data": {
      "text/plain": [
       "3.403258555167285"
      ]
     },
     "execution_count": 54,
     "metadata": {},
     "output_type": "execute_result"
    }
   ],
   "source": [
    "MSE(predictions, y_test)"
   ]
  },
  {
   "cell_type": "code",
   "execution_count": 55,
   "id": "87d7c731",
   "metadata": {},
   "outputs": [],
   "source": [
    "wordSort = list(zip(theta[:-1], words))\n",
    "wordSort.sort()"
   ]
  },
  {
   "cell_type": "code",
   "execution_count": 56,
   "id": "b3c29777",
   "metadata": {},
   "outputs": [
    {
     "data": {
      "text/plain": [
       "[(-0.6245017427296606, 'worst'),\n",
       " (-0.4506875589319873, 'rest of'),\n",
       " (-0.2699369118530492, 'boring'),\n",
       " (-0.24194845572389395, 'minutes'),\n",
       " (-0.22054516501332042, 'the rest')]"
      ]
     },
     "execution_count": 56,
     "metadata": {},
     "output_type": "execute_result"
    }
   ],
   "source": [
    "# most \"negative\" grams\n",
    "wordSort[:5]"
   ]
  },
  {
   "cell_type": "code",
   "execution_count": 57,
   "id": "7ab49692",
   "metadata": {},
   "outputs": [
    {
     "data": {
      "text/plain": [
       "[(0.21221299064279853, 'perfect'),\n",
       " (0.22715181275870538, 'awesome'),\n",
       " (0.24536187085884112, 'amazing'),\n",
       " (0.2968503375489294, 'the fact that'),\n",
       " (0.5587612099356443, 'the rest of')]"
      ]
     },
     "execution_count": 57,
     "metadata": {},
     "output_type": "execute_result"
    }
   ],
   "source": [
    "# most \"positive\" grams\n",
    "wordSort[-5:]"
   ]
  },
  {
   "cell_type": "code",
   "execution_count": 58,
   "id": "59e2653f",
   "metadata": {
    "scrolled": true
   },
   "outputs": [
    {
     "data": {
      "text/plain": [
       "0.19866687097762795"
      ]
     },
     "execution_count": 58,
     "metadata": {},
     "output_type": "execute_result"
    }
   ],
   "source": [
    "# convert predictions (floats) to int and check accuracy\n",
    "predictions = list(map(int, predictions))\n",
    "accuracy(predictions, y_test)"
   ]
  },
  {
   "cell_type": "markdown",
   "id": "534359bb",
   "metadata": {},
   "source": [
    "## unigrams and bigrams"
   ]
  },
  {
   "cell_type": "code",
   "execution_count": 59,
   "id": "7b492fda",
   "metadata": {},
   "outputs": [],
   "source": [
    "wordCount = defaultdict(int)\n",
    "punctuation = set(string.punctuation)\n",
    "for d in train_data:\n",
    "    r = ''.join([c for c in d['text'].lower() if not c in punctuation])\n",
    "    ws = r.split()\n",
    "    ws2 = [' '.join(x) for x in list(zip(ws[:-1],ws[1:]))]\n",
    "    for w in ws + ws2:\n",
    "        wordCount[w] += 1\n",
    "\n",
    "counts = [(wordCount[w], w) for w in wordCount]\n",
    "counts.sort()\n",
    "counts.reverse()"
   ]
  },
  {
   "cell_type": "code",
   "execution_count": 60,
   "id": "82fc2fb7",
   "metadata": {},
   "outputs": [],
   "source": [
    "words = [x[1] for x in counts[:1000]]"
   ]
  },
  {
   "cell_type": "code",
   "execution_count": 61,
   "id": "25e8dc38",
   "metadata": {},
   "outputs": [],
   "source": [
    "wordId = dict(zip(words, range(len(words))))\n",
    "wordSet = set(words)"
   ]
  },
  {
   "cell_type": "code",
   "execution_count": 62,
   "id": "9964843e",
   "metadata": {},
   "outputs": [],
   "source": [
    "def featureUniBi(datum):\n",
    "    feat = [0]*len(words)\n",
    "    r = ''.join([c for c in datum['text'].lower() if not c in punctuation])\n",
    "    ws = r.split()\n",
    "    ws2 = [' '.join(x) for x in list(zip(ws[:-1],ws[1:]))]\n",
    "    for w in ws + ws2:\n",
    "        if w in words:\n",
    "            feat[wordId[w]] += 1\n",
    "    feat.append(1) #offset\n",
    "    return feat"
   ]
  },
  {
   "cell_type": "code",
   "execution_count": 63,
   "id": "6ddd77f2",
   "metadata": {},
   "outputs": [],
   "source": [
    "X = [featureUniBi(d) for d in data]"
   ]
  },
  {
   "cell_type": "code",
   "execution_count": 64,
   "id": "99d6d95f",
   "metadata": {},
   "outputs": [],
   "source": [
    "X_train, X_test = train_test_split(X, test_size=0.3, random_state=0)"
   ]
  },
  {
   "cell_type": "code",
   "execution_count": 65,
   "id": "0696a535",
   "metadata": {},
   "outputs": [],
   "source": [
    "clf = linear_model.Ridge(1.0, fit_intercept=False) # MSE + 1.0 l2\n",
    "clf.fit(X_train, y_train)\n",
    "theta = clf.coef_"
   ]
  },
  {
   "cell_type": "code",
   "execution_count": 66,
   "id": "9ed6b70d",
   "metadata": {},
   "outputs": [],
   "source": [
    "predictions = clf.predict(X_test)"
   ]
  },
  {
   "cell_type": "code",
   "execution_count": 67,
   "id": "22b67f47",
   "metadata": {},
   "outputs": [
    {
     "data": {
      "text/plain": [
       "3.3917200642667686"
      ]
     },
     "execution_count": 67,
     "metadata": {},
     "output_type": "execute_result"
    }
   ],
   "source": [
    "MSE(predictions, y_test)"
   ]
  },
  {
   "cell_type": "code",
   "execution_count": 68,
   "id": "3443ba26",
   "metadata": {},
   "outputs": [],
   "source": [
    "wordSort = list(zip(theta[:-1], words))\n",
    "wordSort.sort()"
   ]
  },
  {
   "cell_type": "code",
   "execution_count": 69,
   "id": "8f5d6a03",
   "metadata": {},
   "outputs": [
    {
     "data": {
      "text/plain": [
       "[(-0.6139128992208037, 'worst'),\n",
       " (-0.2644882555416461, 'boring'),\n",
       " (-0.23825871308714458, 'minutes'),\n",
       " (-0.21827240759636252, 'potential'),\n",
       " (-0.2113503356590675, 'decent')]"
      ]
     },
     "execution_count": 69,
     "metadata": {},
     "output_type": "execute_result"
    }
   ],
   "source": [
    "# most \"negative\" grams\n",
    "wordSort[:5]"
   ]
  },
  {
   "cell_type": "code",
   "execution_count": 70,
   "id": "d453d95d",
   "metadata": {},
   "outputs": [
    {
     "data": {
      "text/plain": [
       "[(0.19129056746096607, 'loved'),\n",
       " (0.20548504037874207, 'highly'),\n",
       " (0.2119069081395148, 'perfect'),\n",
       " (0.22620660707692405, 'awesome'),\n",
       " (0.24307973214546408, 'amazing')]"
      ]
     },
     "execution_count": 70,
     "metadata": {},
     "output_type": "execute_result"
    }
   ],
   "source": [
    "# most \"positive\" grams\n",
    "wordSort[-5:]"
   ]
  },
  {
   "cell_type": "code",
   "execution_count": 71,
   "id": "bfff4fbe",
   "metadata": {
    "scrolled": true
   },
   "outputs": [
    {
     "data": {
      "text/plain": [
       "0.19961180917356217"
      ]
     },
     "execution_count": 71,
     "metadata": {},
     "output_type": "execute_result"
    }
   ],
   "source": [
    "# convert predictions (floats) to int and check accuracy\n",
    "predictions = list(map(int, predictions))\n",
    "accuracy(predictions, y_test)"
   ]
  },
  {
   "cell_type": "code",
   "execution_count": null,
   "id": "26ad1168",
   "metadata": {},
   "outputs": [],
   "source": []
  }
 ],
 "metadata": {
  "kernelspec": {
   "display_name": "Python 3 (clean)",
   "language": "python",
   "name": "python3_clean"
  },
  "language_info": {
   "codemirror_mode": {
    "name": "ipython",
    "version": 3
   },
   "file_extension": ".py",
   "mimetype": "text/x-python",
   "name": "python",
   "nbconvert_exporter": "python",
   "pygments_lexer": "ipython3",
   "version": "3.9.5"
  }
 },
 "nbformat": 4,
 "nbformat_minor": 5
}
