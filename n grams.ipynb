{
 "cells": [
  {
   "cell_type": "code",
   "execution_count": 1,
   "id": "aa075bb3",
   "metadata": {},
   "outputs": [],
   "source": [
    "import csv\n",
    "import math\n",
    "import matplotlib.pyplot as plt\n",
    "import numpy\n",
    "import random\n",
    "import sklearn\n",
    "import string\n",
    "from collections import defaultdict\n",
    "from nltk.stem.porter import *\n",
    "from sklearn import linear_model\n",
    "from sklearn.manifold import TSNE\n",
    "from sklearn.model_selection import train_test_split"
   ]
  },
  {
   "cell_type": "code",
   "execution_count": 2,
   "id": "de210adb",
   "metadata": {},
   "outputs": [],
   "source": [
    "# convert csv to list of dicts\n",
    "with open('final_df.csv') as f:\n",
    "    data = [{k: v for k, v in row.items()} for row in csv.DictReader(f, skipinitialspace=True)]"
   ]
  },
  {
   "cell_type": "code",
   "execution_count": 3,
   "id": "2553fa7f",
   "metadata": {},
   "outputs": [
    {
     "data": {
      "text/plain": [
       "{'uid_x': '255938',\n",
       " 'profile': 'DesolatePsyche',\n",
       " 'anime_uid': '34096',\n",
       " 'text': 'First things first My reviews system is explained on a blog entry Which can be found through my profile   Im going to keep this review more of a opinion of Gintamas overall and then this season specific  Anyhow What I have always loved regarding Gintama is its content of everything I love the comedy its absurd random can be vile dirty sweet anyhow everything Have laughed countless times in this franchise Also the humor they have also is heavily reference based aka parodies of different anime shows manga live stuff real world anime production and so on Anyhow comedyparody side of this franchise i absolutely love  Now nd side of this show is the serious dramas epic battle shounens and so on There are arcs that are fully comedy arcs that are fully serious and mixtures of both Serious side is usually quite dramatic and managed to somewhat tear me up now and then Whilst the action sequences are absolute bliss as well They are just presented in a really cool manner And extra points when sometime the add artistic element  Of course it has its sliceoflife side and pseudoromance Those are weaker side but aint the focus But when sometimes those are the focus then they are done in enjoyable method  To sum up overall gintamas I love the serious side and the silly side  Art and sound voice actingostoped is something I loved in all gintamas across the board They just click with me bliss to look at bliss to hear Music oped specifically are hyped up and upbeat which generally I dont like but gintama is the exception where I love them Art is cool sometimes artistic sometimes simple It has a bit of everything that makes it enjoyable And gore is absolutely satisfying as well well the blood to be specific  Well the serious side of stories in this anime are superb in my opinion or the overall idea of story that moves now and then But wouldnt say comedic side of series story is any worse  When at times comedy side has story Its usually quite enjoyable  Regarding characters I dont have much to say other than that variety stereotypes of offstereotypes is very large As well characters with depth but as well with oddity is as well in great selection Main team Gintoki the lazy dirty slob with superb second side of seriousness and caring about friendsallies Shinpachi the poor straightmanact sidekick who adds great value to the team Kagura the battle race girl that doesnt act like girl almost at all or in another words a dirty slob girl in a sense   Now to this season specific  I found it a bit disappointing Mainly because usually in gintama we have overly serious arcs or fully comedic whilst this one had a bit of mixture of both which somewhat ruined the experience Plus the artistic presentation felt this time around a bit lacking Maybe because of another studio who knows But anyhow it didnt feel as superb Rather than gintama it felt as watching just another good battle shounen anime in modern day with simplified animation  I mean it definitely was not any bad just didnt have the punch Gintama usually has Might be because it was short series maybe because it focused too much moving on with story Itll be shame to see it finalized in this manner  Rest I pretty much loved as usual in Gintama franchise',\n",
       " 'score_x': '8',\n",
       " 'scores': \"{'Overall': '8', 'Story': '8', 'Animation': '8', 'Sound': '10', 'Character': '9', 'Enjoyment': '8'}\",\n",
       " 'text len': '3229',\n",
       " 'uid_y': '34096',\n",
       " 'title': 'Gintama.',\n",
       " 'genre': \"['Action', 'Comedy', 'Historical', 'Parody', 'Samurai', 'Sci-Fi', 'Shounen']\",\n",
       " 'episodes': '12.0',\n",
       " 'members': '139309',\n",
       " 'popularity': '800',\n",
       " 'ranked': '15.0',\n",
       " 'score_y': '8.94'}"
      ]
     },
     "execution_count": 3,
     "metadata": {},
     "output_type": "execute_result"
    }
   ],
   "source": [
    "data[0]"
   ]
  },
  {
   "cell_type": "code",
   "execution_count": 4,
   "id": "76c955a7",
   "metadata": {},
   "outputs": [],
   "source": [
    "train_data, test_data = train_test_split(data, test_size=0.3, random_state=0)"
   ]
  },
  {
   "cell_type": "code",
   "execution_count": 5,
   "id": "f0c6ccca",
   "metadata": {},
   "outputs": [],
   "source": [
    "# remove capitalization (and punctuation)\n",
    "wordCount = defaultdict(int)\n",
    "punctuation = set(string.punctuation)\n",
    "for d in train_data:\n",
    "    r = ''.join([c for c in d['text'].lower() if not c in punctuation])\n",
    "    ws = r.split()\n",
    "    for w in ws:\n",
    "        wordCount[w] += 1\n",
    "\n",
    "counts = [(wordCount[w], w) for w in wordCount]\n",
    "counts.sort()\n",
    "counts.reverse()"
   ]
  },
  {
   "cell_type": "code",
   "execution_count": 6,
   "id": "a93da810",
   "metadata": {},
   "outputs": [],
   "source": [
    "# 1000 most popular words (bag of words)\n",
    "words = [x[1] for x in counts[:3000]]"
   ]
  },
  {
   "cell_type": "code",
   "execution_count": 7,
   "id": "67df512a",
   "metadata": {},
   "outputs": [],
   "source": [
    "wordId = dict(zip(words, range(len(words))))\n",
    "wordSet = set(words)"
   ]
  },
  {
   "cell_type": "markdown",
   "id": "62f6b6e3",
   "metadata": {},
   "source": [
    "# Predictive Task"
   ]
  },
  {
   "cell_type": "markdown",
   "id": "71c305ec",
   "metadata": {},
   "source": [
    "## unigram"
   ]
  },
  {
   "cell_type": "code",
   "execution_count": 8,
   "id": "3353620c",
   "metadata": {},
   "outputs": [],
   "source": [
    "# unigram\n",
    "def featureUni(datum):\n",
    "    feat = [0]*len(words)\n",
    "    r = ''.join([c for c in datum['text'].lower() if not c in punctuation])\n",
    "    for w in r.split():\n",
    "        if w in words:\n",
    "            feat[wordId[w]] += 1\n",
    "    feat.append(1) # offset\n",
    "    return feat"
   ]
  },
  {
   "cell_type": "code",
   "execution_count": 9,
   "id": "59496c1f",
   "metadata": {},
   "outputs": [],
   "source": [
    "X = [featureUni(d) for d in data]\n",
    "y = [d['score_x'] for d in data]"
   ]
  },
  {
   "cell_type": "code",
   "execution_count": 10,
   "id": "6d7ff8d5",
   "metadata": {},
   "outputs": [],
   "source": [
    "# 70/30 train/test split. convert y_data (scores) into ints\n",
    "X_train, X_test, y_train, y_test = train_test_split(X, y, test_size=0.3, random_state=0)\n",
    "y_train = list(map(int, y_train))\n",
    "y_test = list(map(int, y_test))"
   ]
  },
  {
   "cell_type": "code",
   "execution_count": 11,
   "id": "d232b5b4",
   "metadata": {},
   "outputs": [],
   "source": [
    "# Regularized regression\n",
    "clf = linear_model.Ridge(1.0, fit_intercept=False) # MSE + 1.0 l2\n",
    "clf.fit(X_train, y_train)\n",
    "theta = clf.coef_"
   ]
  },
  {
   "cell_type": "code",
   "execution_count": 12,
   "id": "9f7d58f3",
   "metadata": {},
   "outputs": [],
   "source": [
    "predictions = clf.predict(X_test)"
   ]
  },
  {
   "cell_type": "code",
   "execution_count": 13,
   "id": "847eedb9",
   "metadata": {},
   "outputs": [],
   "source": [
    "def MSE(predictions, labels):\n",
    "    differences = [(x-y)**2 for x,y in zip(predictions,labels)]\n",
    "    return sum(differences) / len(differences)"
   ]
  },
  {
   "cell_type": "code",
   "execution_count": 14,
   "id": "949739a0",
   "metadata": {},
   "outputs": [
    {
     "data": {
      "text/plain": [
       "3.122525654263341"
      ]
     },
     "execution_count": 14,
     "metadata": {},
     "output_type": "execute_result"
    }
   ],
   "source": [
    "MSE(predictions, y_test)"
   ]
  },
  {
   "cell_type": "code",
   "execution_count": 15,
   "id": "9a5de8fc",
   "metadata": {},
   "outputs": [],
   "source": [
    "wordSort = list(zip(theta[:-1], words))\n",
    "wordSort.sort()"
   ]
  },
  {
   "cell_type": "code",
   "execution_count": 16,
   "id": "3f272a1e",
   "metadata": {},
   "outputs": [
    {
     "data": {
      "text/plain": [
       "[(-0.5841532846153836, 'pathetic'),\n",
       " (-0.5729449139638786, 'waste'),\n",
       " (-0.5432656703123779, 'redeeming'),\n",
       " (-0.4781395319713775, 'disgusting'),\n",
       " (-0.39527452590519685, 'worst')]"
      ]
     },
     "execution_count": 16,
     "metadata": {},
     "output_type": "execute_result"
    }
   ],
   "source": [
    "# most \"negative\" unigrams\n",
    "wordSort[:5]"
   ]
  },
  {
   "cell_type": "code",
   "execution_count": 17,
   "id": "2a0c12a3",
   "metadata": {},
   "outputs": [
    {
     "data": {
      "text/plain": [
       "[(0.24662450084415863, 'superb'),\n",
       " (0.31842542733151236, 'underrated'),\n",
       " (0.3551650519631516, 'cried'),\n",
       " (0.3691512764726355, 'hooked'),\n",
       " (0.369248107132818, 'masterpiece')]"
      ]
     },
     "execution_count": 17,
     "metadata": {},
     "output_type": "execute_result"
    }
   ],
   "source": [
    "# most \"positive\" unigrams\n",
    "wordSort[-5:]"
   ]
  },
  {
   "cell_type": "code",
   "execution_count": 18,
   "id": "fab1d43e",
   "metadata": {},
   "outputs": [],
   "source": [
    "def accuracy(predictions, labels):\n",
    "    correct = 0\n",
    "    for i in range(len(predictions)):\n",
    "        if predictions[i] == labels[i]:\n",
    "            correct += 1\n",
    "    return correct/len(labels)"
   ]
  },
  {
   "cell_type": "code",
   "execution_count": 19,
   "id": "7062b0a7",
   "metadata": {},
   "outputs": [
    {
     "data": {
      "text/plain": [
       "0.20980181836755543"
      ]
     },
     "execution_count": 19,
     "metadata": {},
     "output_type": "execute_result"
    }
   ],
   "source": [
    "# convert predictions (floats) to int and check accuracy\n",
    "predictions = list(map(int, predictions))\n",
    "accuracy(predictions, y_test)"
   ]
  },
  {
   "cell_type": "markdown",
   "id": "6741872e",
   "metadata": {},
   "source": [
    "## bigram"
   ]
  },
  {
   "cell_type": "code",
   "execution_count": 20,
   "id": "a221ba5a",
   "metadata": {},
   "outputs": [],
   "source": [
    "wordCount = defaultdict(int)\n",
    "punctuation = set(string.punctuation)\n",
    "for d in train_data:\n",
    "    r = ''.join([c for c in d['text'].lower() if not c in punctuation])\n",
    "    ws = r.split()\n",
    "    ws2 = [' '.join(x) for x in list(zip(ws[:-1],ws[1:]))]\n",
    "    for w in ws2:\n",
    "        wordCount[w] += 1\n",
    "\n",
    "counts = [(wordCount[w], w) for w in wordCount]\n",
    "counts.sort()\n",
    "counts.reverse()"
   ]
  },
  {
   "cell_type": "code",
   "execution_count": 21,
   "id": "cc615239",
   "metadata": {},
   "outputs": [],
   "source": [
    "words = [x[1] for x in counts[:1000]]"
   ]
  },
  {
   "cell_type": "code",
   "execution_count": 22,
   "id": "e01d7d4d",
   "metadata": {},
   "outputs": [],
   "source": [
    "wordId = dict(zip(words, range(len(words))))\n",
    "wordSet = set(words)"
   ]
  },
  {
   "cell_type": "code",
   "execution_count": 23,
   "id": "1b4ee20d",
   "metadata": {},
   "outputs": [],
   "source": [
    "def featureBi(datum):\n",
    "    feat = [0]*len(words)\n",
    "    r = ''.join([c for c in datum['text'].lower() if not c in punctuation])\n",
    "    ws = r.split()\n",
    "    ws2 = [' '.join(x) for x in list(zip(ws[:-1],ws[1:]))]\n",
    "    for w in ws2:\n",
    "        if w in words:\n",
    "            feat[wordId[w]] += 1\n",
    "    feat.append(1) #offset\n",
    "    return feat"
   ]
  },
  {
   "cell_type": "code",
   "execution_count": 24,
   "id": "45b3f66f",
   "metadata": {},
   "outputs": [],
   "source": [
    "X = [featureBi(d) for d in data]"
   ]
  },
  {
   "cell_type": "code",
   "execution_count": 25,
   "id": "546dbf21",
   "metadata": {},
   "outputs": [],
   "source": [
    "X_train, X_test = train_test_split(X, test_size=0.3, random_state=0)"
   ]
  },
  {
   "cell_type": "code",
   "execution_count": 26,
   "id": "2e6e4f72",
   "metadata": {},
   "outputs": [],
   "source": [
    "# Regularized regression\n",
    "clf = linear_model.Ridge(1.0, fit_intercept=False) # MSE + 1.0 l2\n",
    "clf.fit(X_train, y_train)\n",
    "theta = clf.coef_"
   ]
  },
  {
   "cell_type": "code",
   "execution_count": 27,
   "id": "6c5d8aad",
   "metadata": {},
   "outputs": [],
   "source": [
    "predictions = clf.predict(X_test)"
   ]
  },
  {
   "cell_type": "code",
   "execution_count": 28,
   "id": "8c602cda",
   "metadata": {},
   "outputs": [
    {
     "data": {
      "text/plain": [
       "3.7780989482847462"
      ]
     },
     "execution_count": 28,
     "metadata": {},
     "output_type": "execute_result"
    }
   ],
   "source": [
    "MSE(predictions, y_test)"
   ]
  },
  {
   "cell_type": "code",
   "execution_count": 29,
   "id": "3d3b38ba",
   "metadata": {},
   "outputs": [],
   "source": [
    "wordSort = list(zip(theta[:-1], words))\n",
    "wordSort.sort()"
   ]
  },
  {
   "cell_type": "code",
   "execution_count": 30,
   "id": "344273e7",
   "metadata": {},
   "outputs": [
    {
     "data": {
      "text/plain": [
       "[(-0.9575741892596256, 'the worst'),\n",
       " (-0.3796670740328128, 'not even'),\n",
       " (-0.32019151770049364, 'with no'),\n",
       " (-0.2695281476757664, 'nothing to'),\n",
       " (-0.2521810385095527, 'have no')]"
      ]
     },
     "execution_count": 30,
     "metadata": {},
     "output_type": "execute_result"
    }
   ],
   "source": [
    "# most \"negative\" bigrams\n",
    "wordSort[:5]"
   ]
  },
  {
   "cell_type": "code",
   "execution_count": 31,
   "id": "181956d1",
   "metadata": {},
   "outputs": [
    {
     "data": {
      "text/plain": [
       "[(0.2479479087536673, 'makes you'),\n",
       " (0.24795018471943683, 'really enjoyed'),\n",
       " (0.2524566776933574, 'the best'),\n",
       " (0.2880505334989174, 'is great'),\n",
       " (0.33360213766528596, 'i loved')]"
      ]
     },
     "execution_count": 31,
     "metadata": {},
     "output_type": "execute_result"
    }
   ],
   "source": [
    "# most \"positive\" bigrams\n",
    "wordSort[-5:]"
   ]
  },
  {
   "cell_type": "code",
   "execution_count": 32,
   "id": "48c7bfad",
   "metadata": {},
   "outputs": [
    {
     "data": {
      "text/plain": [
       "0.1881703953417101"
      ]
     },
     "execution_count": 32,
     "metadata": {},
     "output_type": "execute_result"
    }
   ],
   "source": [
    "# convert predictions (floats) to int and check accuracy\n",
    "predictions = list(map(int, predictions))\n",
    "accuracy(predictions, y_test)"
   ]
  },
  {
   "cell_type": "markdown",
   "id": "1850996c",
   "metadata": {},
   "source": [
    "## trigrams"
   ]
  },
  {
   "cell_type": "code",
   "execution_count": 33,
   "id": "9b84d33c",
   "metadata": {},
   "outputs": [],
   "source": [
    "wordCount = defaultdict(int)\n",
    "punctuation = set(string.punctuation)\n",
    "for d in train_data:\n",
    "    r = ''.join([c for c in d['text'].lower() if not c in punctuation])\n",
    "    ws = r.split()\n",
    "    ws3 = [' '.join(x) for x in list(zip(ws[:-2],ws[1:-1],ws[2:]))]\n",
    "    for w in ws3:\n",
    "        wordCount[w] += 1\n",
    "\n",
    "counts = [(wordCount[w], w) for w in wordCount]\n",
    "counts.sort()\n",
    "counts.reverse()"
   ]
  },
  {
   "cell_type": "code",
   "execution_count": 34,
   "id": "f26b2007",
   "metadata": {},
   "outputs": [],
   "source": [
    "words = [x[1] for x in counts[:1000]]"
   ]
  },
  {
   "cell_type": "code",
   "execution_count": 35,
   "id": "bf7f1741",
   "metadata": {},
   "outputs": [],
   "source": [
    "wordId = dict(zip(words, range(len(words))))\n",
    "wordSet = set(words)"
   ]
  },
  {
   "cell_type": "code",
   "execution_count": 36,
   "id": "138e7aaa",
   "metadata": {},
   "outputs": [],
   "source": [
    "def featureTri(datum):\n",
    "    feat = [0]*len(words)\n",
    "    r = ''.join([c for c in datum['text'].lower() if not c in punctuation])\n",
    "    ws = r.split()\n",
    "    ws3 = [' '.join(x) for x in list(zip(ws[:-2],ws[1:-1],ws[2:]))]\n",
    "    for w in ws3:\n",
    "        if w in words:\n",
    "            feat[wordId[w]] += 1\n",
    "    feat.append(1) #offset\n",
    "    return feat"
   ]
  },
  {
   "cell_type": "code",
   "execution_count": 37,
   "id": "a6c70a74",
   "metadata": {},
   "outputs": [],
   "source": [
    "X = [featureTri(d) for d in data]"
   ]
  },
  {
   "cell_type": "code",
   "execution_count": 38,
   "id": "ea3ce8c4",
   "metadata": {},
   "outputs": [],
   "source": [
    "X_train, X_test = train_test_split(X, test_size=0.3, random_state=0)"
   ]
  },
  {
   "cell_type": "code",
   "execution_count": 39,
   "id": "6eb7ff6b",
   "metadata": {},
   "outputs": [],
   "source": [
    "clf = linear_model.Ridge(1.0, fit_intercept=False) # MSE + 1.0 l2\n",
    "clf.fit(X_train, y_train)\n",
    "theta = clf.coef_"
   ]
  },
  {
   "cell_type": "code",
   "execution_count": 40,
   "id": "4ae4b000",
   "metadata": {},
   "outputs": [],
   "source": [
    "predictions = clf.predict(X_test)"
   ]
  },
  {
   "cell_type": "code",
   "execution_count": 41,
   "id": "9b1a4e49",
   "metadata": {},
   "outputs": [
    {
     "data": {
      "text/plain": [
       "4.204311426628811"
      ]
     },
     "execution_count": 41,
     "metadata": {},
     "output_type": "execute_result"
    }
   ],
   "source": [
    "MSE(predictions, y_test)"
   ]
  },
  {
   "cell_type": "code",
   "execution_count": 42,
   "id": "0dd02aa6",
   "metadata": {},
   "outputs": [],
   "source": [
    "wordSort = list(zip(theta[:-1], words))\n",
    "wordSort.sort()"
   ]
  },
  {
   "cell_type": "code",
   "execution_count": 43,
   "id": "807c8855",
   "metadata": {},
   "outputs": [
    {
     "data": {
      "text/plain": [
       "[(-1.9031303626592342, 'of the worst'),\n",
       " (-0.9482532436736707, 'dont get me'),\n",
       " (-0.7057139648198819, 'the only reason'),\n",
       " (-0.5948573378628006, 'little to no'),\n",
       " (-0.5018927378487092, 'at all the')]"
      ]
     },
     "execution_count": 43,
     "metadata": {},
     "output_type": "execute_result"
    }
   ],
   "source": [
    "# most \"negative\" trigrams\n",
    "wordSort[:5]"
   ]
  },
  {
   "cell_type": "code",
   "execution_count": 44,
   "id": "93212bea",
   "metadata": {},
   "outputs": [
    {
     "data": {
      "text/plain": [
       "[(0.6256082556262265, 'my favorite anime'),\n",
       " (0.6316597443377329, 'the edge of'),\n",
       " (0.7440137029718403, 'i highly recommend'),\n",
       " (0.804054129001378, 'get me wrong'),\n",
       " (0.9671008291837964, 'a must watch')]"
      ]
     },
     "execution_count": 44,
     "metadata": {},
     "output_type": "execute_result"
    }
   ],
   "source": [
    "# most \"positive\" trigrams\n",
    "wordSort[-5:]"
   ]
  },
  {
   "cell_type": "code",
   "execution_count": 45,
   "id": "7b2fe735",
   "metadata": {
    "scrolled": true
   },
   "outputs": [
    {
     "data": {
      "text/plain": [
       "0.1741240167534988"
      ]
     },
     "execution_count": 45,
     "metadata": {},
     "output_type": "execute_result"
    }
   ],
   "source": [
    "# convert predictions (floats) to int and check accuracy\n",
    "predictions = list(map(int, predictions))\n",
    "accuracy(predictions, y_test)"
   ]
  },
  {
   "cell_type": "markdown",
   "id": "d73bb3db",
   "metadata": {},
   "source": [
    "## unigrams, bigrams, and trigrams"
   ]
  },
  {
   "cell_type": "code",
   "execution_count": 46,
   "id": "413e75ca",
   "metadata": {},
   "outputs": [],
   "source": [
    "wordCount = defaultdict(int)\n",
    "punctuation = set(string.punctuation)\n",
    "for d in train_data:\n",
    "    r = ''.join([c for c in d['text'].lower() if not c in punctuation])\n",
    "    ws = r.split()\n",
    "    ws2 = [' '.join(x) for x in list(zip(ws[:-1],ws[1:]))]\n",
    "    ws3 = [' '.join(x) for x in list(zip(ws[:-2],ws[1:-1],ws[2:]))]\n",
    "    for w in ws + ws2 + ws3:\n",
    "        wordCount[w] += 1\n",
    "\n",
    "counts = [(wordCount[w], w) for w in wordCount]\n",
    "counts.sort()\n",
    "counts.reverse()"
   ]
  },
  {
   "cell_type": "code",
   "execution_count": 47,
   "id": "5b7e5ae5",
   "metadata": {},
   "outputs": [],
   "source": [
    "words = [x[1] for x in counts[:1000]]"
   ]
  },
  {
   "cell_type": "code",
   "execution_count": 48,
   "id": "0ee63dff",
   "metadata": {},
   "outputs": [],
   "source": [
    "wordId = dict(zip(words, range(len(words))))\n",
    "wordSet = set(words)"
   ]
  },
  {
   "cell_type": "code",
   "execution_count": 49,
   "id": "7dad9ca7",
   "metadata": {},
   "outputs": [],
   "source": [
    "def feature(datum):\n",
    "    feat = [0]*len(words)\n",
    "    r = ''.join([c for c in datum['text'].lower() if not c in punctuation])\n",
    "    ws = r.split()\n",
    "    ws2 = [' '.join(x) for x in list(zip(ws[:-1],ws[1:]))]\n",
    "    ws3 = [' '.join(x) for x in list(zip(ws[:-2],ws[1:-1],ws[2:]))]\n",
    "    for w in ws + ws2 + ws3:\n",
    "        if w in words:\n",
    "            feat[wordId[w]] += 1\n",
    "    feat.append(1) #offset\n",
    "    return feat"
   ]
  },
  {
   "cell_type": "code",
   "execution_count": 50,
   "id": "1a4b8c31",
   "metadata": {},
   "outputs": [],
   "source": [
    "X = [feature(d) for d in data]"
   ]
  },
  {
   "cell_type": "code",
   "execution_count": 51,
   "id": "40c52c83",
   "metadata": {},
   "outputs": [],
   "source": [
    "X_train, X_test = train_test_split(X, test_size=0.3, random_state=0)"
   ]
  },
  {
   "cell_type": "code",
   "execution_count": 52,
   "id": "0cf5b06e",
   "metadata": {},
   "outputs": [],
   "source": [
    "clf = linear_model.Ridge(1.0, fit_intercept=False) # MSE + 1.0 l2\n",
    "clf.fit(X_train, y_train)\n",
    "theta = clf.coef_"
   ]
  },
  {
   "cell_type": "code",
   "execution_count": 53,
   "id": "905a9bdc",
   "metadata": {},
   "outputs": [],
   "source": [
    "predictions = clf.predict(X_test)"
   ]
  },
  {
   "cell_type": "code",
   "execution_count": 54,
   "id": "2a7451c1",
   "metadata": {},
   "outputs": [
    {
     "data": {
      "text/plain": [
       "3.403258555167285"
      ]
     },
     "execution_count": 54,
     "metadata": {},
     "output_type": "execute_result"
    }
   ],
   "source": [
    "MSE(predictions, y_test)"
   ]
  },
  {
   "cell_type": "code",
   "execution_count": 55,
   "id": "844e2020",
   "metadata": {},
   "outputs": [],
   "source": [
    "wordSort = list(zip(theta[:-1], words))\n",
    "wordSort.sort()"
   ]
  },
  {
   "cell_type": "code",
   "execution_count": 56,
   "id": "62309439",
   "metadata": {},
   "outputs": [
    {
     "data": {
      "text/plain": [
       "[(-0.6245017427296606, 'worst'),\n",
       " (-0.4506875589319873, 'rest of'),\n",
       " (-0.2699369118530492, 'boring'),\n",
       " (-0.24194845572389395, 'minutes'),\n",
       " (-0.22054516501332042, 'the rest')]"
      ]
     },
     "execution_count": 56,
     "metadata": {},
     "output_type": "execute_result"
    }
   ],
   "source": [
    "# most \"negative\" grams\n",
    "wordSort[:5]"
   ]
  },
  {
   "cell_type": "code",
   "execution_count": 57,
   "id": "115c254c",
   "metadata": {},
   "outputs": [
    {
     "data": {
      "text/plain": [
       "[(0.21221299064279853, 'perfect'),\n",
       " (0.22715181275870538, 'awesome'),\n",
       " (0.24536187085884112, 'amazing'),\n",
       " (0.2968503375489294, 'the fact that'),\n",
       " (0.5587612099356443, 'the rest of')]"
      ]
     },
     "execution_count": 57,
     "metadata": {},
     "output_type": "execute_result"
    }
   ],
   "source": [
    "# most \"positive\" grams\n",
    "wordSort[-5:]"
   ]
  },
  {
   "cell_type": "code",
   "execution_count": 58,
   "id": "c75495d6",
   "metadata": {
    "scrolled": true
   },
   "outputs": [
    {
     "data": {
      "text/plain": [
       "0.19866687097762795"
      ]
     },
     "execution_count": 58,
     "metadata": {},
     "output_type": "execute_result"
    }
   ],
   "source": [
    "# convert predictions (floats) to int and check accuracy\n",
    "predictions = list(map(int, predictions))\n",
    "accuracy(predictions, y_test)"
   ]
  },
  {
   "cell_type": "markdown",
   "id": "1cfe455d",
   "metadata": {},
   "source": [
    "## unigrams and bigrams"
   ]
  },
  {
   "cell_type": "code",
   "execution_count": 59,
   "id": "ce1b8bb0",
   "metadata": {},
   "outputs": [],
   "source": [
    "wordCount = defaultdict(int)\n",
    "punctuation = set(string.punctuation)\n",
    "for d in train_data:\n",
    "    r = ''.join([c for c in d['text'].lower() if not c in punctuation])\n",
    "    ws = r.split()\n",
    "    ws2 = [' '.join(x) for x in list(zip(ws[:-1],ws[1:]))]\n",
    "    for w in ws + ws2:\n",
    "        wordCount[w] += 1\n",
    "\n",
    "counts = [(wordCount[w], w) for w in wordCount]\n",
    "counts.sort()\n",
    "counts.reverse()"
   ]
  },
  {
   "cell_type": "code",
   "execution_count": 60,
   "id": "7c73d513",
   "metadata": {},
   "outputs": [],
   "source": [
    "words = [x[1] for x in counts[:1000]]"
   ]
  },
  {
   "cell_type": "code",
   "execution_count": 61,
   "id": "bf6d4631",
   "metadata": {},
   "outputs": [],
   "source": [
    "wordId = dict(zip(words, range(len(words))))\n",
    "wordSet = set(words)"
   ]
  },
  {
   "cell_type": "code",
   "execution_count": 62,
   "id": "f1050071",
   "metadata": {},
   "outputs": [],
   "source": [
    "def featureUniBi(datum):\n",
    "    feat = [0]*len(words)\n",
    "    r = ''.join([c for c in datum['text'].lower() if not c in punctuation])\n",
    "    ws = r.split()\n",
    "    ws2 = [' '.join(x) for x in list(zip(ws[:-1],ws[1:]))]\n",
    "    for w in ws + ws2:\n",
    "        if w in words:\n",
    "            feat[wordId[w]] += 1\n",
    "    feat.append(1) #offset\n",
    "    return feat"
   ]
  },
  {
   "cell_type": "code",
   "execution_count": 63,
   "id": "45feb6ae",
   "metadata": {},
   "outputs": [],
   "source": [
    "X = [featureUniBi(d) for d in data]"
   ]
  },
  {
   "cell_type": "code",
   "execution_count": 64,
   "id": "333d9e38",
   "metadata": {},
   "outputs": [],
   "source": [
    "X_train, X_test = train_test_split(X, test_size=0.3, random_state=0)"
   ]
  },
  {
   "cell_type": "code",
   "execution_count": 65,
   "id": "8841519c",
   "metadata": {},
   "outputs": [],
   "source": [
    "clf = linear_model.Ridge(1.0, fit_intercept=False) # MSE + 1.0 l2\n",
    "clf.fit(X_train, y_train)\n",
    "theta = clf.coef_"
   ]
  },
  {
   "cell_type": "code",
   "execution_count": 66,
   "id": "802adbba",
   "metadata": {},
   "outputs": [],
   "source": [
    "predictions = clf.predict(X_test)"
   ]
  },
  {
   "cell_type": "code",
   "execution_count": 67,
   "id": "8e1aa13a",
   "metadata": {},
   "outputs": [
    {
     "data": {
      "text/plain": [
       "3.3917200642667686"
      ]
     },
     "execution_count": 67,
     "metadata": {},
     "output_type": "execute_result"
    }
   ],
   "source": [
    "MSE(predictions, y_test)"
   ]
  },
  {
   "cell_type": "code",
   "execution_count": 68,
   "id": "3ae4ac40",
   "metadata": {},
   "outputs": [],
   "source": [
    "wordSort = list(zip(theta[:-1], words))\n",
    "wordSort.sort()"
   ]
  },
  {
   "cell_type": "code",
   "execution_count": 69,
   "id": "c8d77e01",
   "metadata": {},
   "outputs": [
    {
     "data": {
      "text/plain": [
       "[(-0.6139128992208037, 'worst'),\n",
       " (-0.2644882555416461, 'boring'),\n",
       " (-0.23825871308714458, 'minutes'),\n",
       " (-0.21827240759636252, 'potential'),\n",
       " (-0.2113503356590675, 'decent')]"
      ]
     },
     "execution_count": 69,
     "metadata": {},
     "output_type": "execute_result"
    }
   ],
   "source": [
    "# most \"negative\" grams\n",
    "wordSort[:5]"
   ]
  },
  {
   "cell_type": "code",
   "execution_count": 70,
   "id": "f571b8eb",
   "metadata": {},
   "outputs": [
    {
     "data": {
      "text/plain": [
       "[(0.19129056746096607, 'loved'),\n",
       " (0.20548504037874207, 'highly'),\n",
       " (0.2119069081395148, 'perfect'),\n",
       " (0.22620660707692405, 'awesome'),\n",
       " (0.24307973214546408, 'amazing')]"
      ]
     },
     "execution_count": 70,
     "metadata": {},
     "output_type": "execute_result"
    }
   ],
   "source": [
    "# most \"positive\" grams\n",
    "wordSort[-5:]"
   ]
  },
  {
   "cell_type": "code",
   "execution_count": 71,
   "id": "8b7c048b",
   "metadata": {
    "scrolled": true
   },
   "outputs": [
    {
     "data": {
      "text/plain": [
       "0.19961180917356217"
      ]
     },
     "execution_count": 71,
     "metadata": {},
     "output_type": "execute_result"
    }
   ],
   "source": [
    "# convert predictions (floats) to int and check accuracy\n",
    "predictions = list(map(int, predictions))\n",
    "accuracy(predictions, y_test)"
   ]
  },
  {
   "cell_type": "code",
   "execution_count": null,
   "id": "f73984c2",
   "metadata": {},
   "outputs": [],
   "source": []
  }
 ],
 "metadata": {
  "kernelspec": {
   "display_name": "Python 3 (clean)",
   "language": "python",
   "name": "python3_clean"
  },
  "language_info": {
   "codemirror_mode": {
    "name": "ipython",
    "version": 3
   },
   "file_extension": ".py",
   "mimetype": "text/x-python",
   "name": "python",
   "nbconvert_exporter": "python",
   "pygments_lexer": "ipython3",
   "version": "3.9.5"
  }
 },
 "nbformat": 4,
 "nbformat_minor": 5
}
