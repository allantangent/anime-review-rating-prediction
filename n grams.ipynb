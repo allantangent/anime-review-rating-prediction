{
 "cells": [
  {
   "cell_type": "code",
   "execution_count": 1,
   "id": "64bdab67",
   "metadata": {},
   "outputs": [],
   "source": [
    "import csv\n",
    "import math\n",
    "import matplotlib.pyplot as plt\n",
    "import numpy\n",
    "import random\n",
    "import sklearn\n",
    "import string\n",
    "from collections import defaultdict\n",
    "from nltk.stem.porter import *\n",
    "from sklearn import linear_model\n",
    "from sklearn.manifold import TSNE\n",
    "from sklearn.model_selection import train_test_split"
   ]
  },
  {
   "cell_type": "code",
   "execution_count": 2,
   "id": "20a215b1",
   "metadata": {},
   "outputs": [],
   "source": [
    "# convert csv to list of dicts\n",
    "with open('final_df.csv') as f:\n",
    "    data = [{k: v for k, v in row.items()} for row in csv.DictReader(f, skipinitialspace=True)]"
   ]
  },
  {
   "cell_type": "code",
   "execution_count": 3,
   "id": "6d5104b1",
   "metadata": {},
   "outputs": [
    {
     "data": {
      "text/plain": [
       "{'uid_x': '255938',\n",
       " 'profile': 'DesolatePsyche',\n",
       " 'anime_uid': '34096',\n",
       " 'text': 'First things first My reviews system is explained on a blog entry Which can be found through my profile   Im going to keep this review more of a opinion of Gintamas overall and then this season specific  Anyhow What I have always loved regarding Gintama is its content of everything I love the comedy its absurd random can be vile dirty sweet anyhow everything Have laughed countless times in this franchise Also the humor they have also is heavily reference based aka parodies of different anime shows manga live stuff real world anime production and so on Anyhow comedyparody side of this franchise i absolutely love  Now nd side of this show is the serious dramas epic battle shounens and so on There are arcs that are fully comedy arcs that are fully serious and mixtures of both Serious side is usually quite dramatic and managed to somewhat tear me up now and then Whilst the action sequences are absolute bliss as well They are just presented in a really cool manner And extra points when sometime the add artistic element  Of course it has its sliceoflife side and pseudoromance Those are weaker side but aint the focus But when sometimes those are the focus then they are done in enjoyable method  To sum up overall gintamas I love the serious side and the silly side  Art and sound voice actingostoped is something I loved in all gintamas across the board They just click with me bliss to look at bliss to hear Music oped specifically are hyped up and upbeat which generally I dont like but gintama is the exception where I love them Art is cool sometimes artistic sometimes simple It has a bit of everything that makes it enjoyable And gore is absolutely satisfying as well well the blood to be specific  Well the serious side of stories in this anime are superb in my opinion or the overall idea of story that moves now and then But wouldnt say comedic side of series story is any worse  When at times comedy side has story Its usually quite enjoyable  Regarding characters I dont have much to say other than that variety stereotypes of offstereotypes is very large As well characters with depth but as well with oddity is as well in great selection Main team Gintoki the lazy dirty slob with superb second side of seriousness and caring about friendsallies Shinpachi the poor straightmanact sidekick who adds great value to the team Kagura the battle race girl that doesnt act like girl almost at all or in another words a dirty slob girl in a sense   Now to this season specific  I found it a bit disappointing Mainly because usually in gintama we have overly serious arcs or fully comedic whilst this one had a bit of mixture of both which somewhat ruined the experience Plus the artistic presentation felt this time around a bit lacking Maybe because of another studio who knows But anyhow it didnt feel as superb Rather than gintama it felt as watching just another good battle shounen anime in modern day with simplified animation  I mean it definitely was not any bad just didnt have the punch Gintama usually has Might be because it was short series maybe because it focused too much moving on with story Itll be shame to see it finalized in this manner  Rest I pretty much loved as usual in Gintama franchise',\n",
       " 'score_x': '8',\n",
       " 'scores': \"{'Overall': '8', 'Story': '8', 'Animation': '8', 'Sound': '10', 'Character': '9', 'Enjoyment': '8'}\",\n",
       " 'text len': '3229',\n",
       " 'uid_y': '34096',\n",
       " 'title': 'Gintama.',\n",
       " 'genre': \"['Action', 'Comedy', 'Historical', 'Parody', 'Samurai', 'Sci-Fi', 'Shounen']\",\n",
       " 'episodes': '12.0',\n",
       " 'members': '139309',\n",
       " 'popularity': '800',\n",
       " 'ranked': '15.0',\n",
       " 'score_y': '8.94'}"
      ]
     },
     "execution_count": 3,
     "metadata": {},
     "output_type": "execute_result"
    }
   ],
   "source": [
    "data[0]"
   ]
  },
  {
   "cell_type": "code",
   "execution_count": 4,
   "id": "187932fe",
   "metadata": {},
   "outputs": [],
   "source": [
    "train_data, test_data = train_test_split(data, test_size=0.3, random_state=0)"
   ]
  },
  {
   "cell_type": "code",
   "execution_count": 5,
   "id": "43d53e81",
   "metadata": {},
   "outputs": [],
   "source": [
    "# remove capitalization (and punctuation)\n",
    "wordCount = defaultdict(int)\n",
    "punctuation = set(string.punctuation)\n",
    "for d in train_data:\n",
    "    r = ''.join([c for c in d['text'].lower() if not c in punctuation])\n",
    "    ws = r.split()\n",
    "    for w in ws:\n",
    "        wordCount[w] += 1\n",
    "\n",
    "counts = [(wordCount[w], w) for w in wordCount]\n",
    "counts.sort()\n",
    "counts.reverse()"
   ]
  },
  {
   "cell_type": "code",
   "execution_count": 6,
   "id": "abaf3745",
   "metadata": {},
   "outputs": [],
   "source": [
    "# 1000 most popular words (bag of words)\n",
    "words = [x[1] for x in counts[:1000]]"
   ]
  },
  {
   "cell_type": "code",
   "execution_count": 7,
   "id": "2e679503",
   "metadata": {},
   "outputs": [],
   "source": [
    "wordId = dict(zip(words, range(len(words))))\n",
    "wordSet = set(words)"
   ]
  },
  {
   "cell_type": "markdown",
   "id": "f21dae1f",
   "metadata": {},
   "source": [
    "# Predictive Task"
   ]
  },
  {
   "cell_type": "markdown",
   "id": "fdcb9bd0",
   "metadata": {},
   "source": [
    "## unigram"
   ]
  },
  {
   "cell_type": "code",
   "execution_count": 8,
   "id": "4455336e",
   "metadata": {},
   "outputs": [],
   "source": [
    "# unigram\n",
    "def featureUni(datum):\n",
    "    feat = [0]*len(words)\n",
    "    r = ''.join([c for c in datum['text'].lower() if not c in punctuation])\n",
    "    for w in r.split():\n",
    "        if w in words:\n",
    "            feat[wordId[w]] += 1\n",
    "    feat.append(1) # offset\n",
    "    return feat"
   ]
  },
  {
   "cell_type": "code",
   "execution_count": 9,
   "id": "692ede8a",
   "metadata": {},
   "outputs": [],
   "source": [
    "X = [featureUni(d) for d in data]\n",
    "y = [d['score_x'] for d in data]"
   ]
  },
  {
   "cell_type": "code",
   "execution_count": 10,
   "id": "ca0df697",
   "metadata": {},
   "outputs": [],
   "source": [
    "# 70/30 train/test split. convert y_data (scores) into ints\n",
    "X_train, X_test, y_train, y_test = train_test_split(X, y, test_size=0.3, random_state=0)\n",
    "y_train = list(map(int, y_train))\n",
    "y_test = list(map(int, y_test))"
   ]
  },
  {
   "cell_type": "code",
   "execution_count": 11,
   "id": "614a73d6",
   "metadata": {},
   "outputs": [],
   "source": [
    "# Regularized regression\n",
    "clf = linear_model.Ridge(1.0, fit_intercept=False) # MSE + 1.0 l2\n",
    "clf.fit(X, y)\n",
    "theta = clf.coef_"
   ]
  },
  {
   "cell_type": "code",
   "execution_count": 12,
   "id": "9b3ac786",
   "metadata": {},
   "outputs": [],
   "source": [
    "predictions = clf.predict(X_test)"
   ]
  },
  {
   "cell_type": "code",
   "execution_count": 13,
   "id": "1e04373d",
   "metadata": {},
   "outputs": [],
   "source": [
    "def MSE(predictions, labels):\n",
    "    differences = [(x-y)**2 for x,y in zip(predictions,labels)]\n",
    "    return sum(differences) / len(differences)"
   ]
  },
  {
   "cell_type": "code",
   "execution_count": 14,
   "id": "b1eb0e14",
   "metadata": {},
   "outputs": [
    {
     "data": {
      "text/plain": [
       "3.2027948034964315"
      ]
     },
     "execution_count": 14,
     "metadata": {},
     "output_type": "execute_result"
    }
   ],
   "source": [
    "MSE(predictions, y_test)"
   ]
  },
  {
   "cell_type": "code",
   "execution_count": 15,
   "id": "02873a5c",
   "metadata": {},
   "outputs": [],
   "source": [
    "wordSort = list(zip(theta[:-1], words))\n",
    "wordSort.sort()"
   ]
  },
  {
   "cell_type": "code",
   "execution_count": 16,
   "id": "3cd8851b",
   "metadata": {},
   "outputs": [
    {
     "data": {
      "text/plain": [
       "[(-0.4955341867392178, 'worst'),\n",
       " (-0.48117306630400886, 'horrible'),\n",
       " (-0.3820938818256158, 'terrible'),\n",
       " (-0.34760319080767005, 'poor'),\n",
       " (-0.33220931810463566, 'mediocre')]"
      ]
     },
     "execution_count": 16,
     "metadata": {},
     "output_type": "execute_result"
    }
   ],
   "source": [
    "# most \"negative\" unigrams\n",
    "wordSort[:5]"
   ]
  },
  {
   "cell_type": "code",
   "execution_count": 17,
   "id": "3a23ff16",
   "metadata": {},
   "outputs": [
    {
     "data": {
      "text/plain": [
       "[(0.1978931893829899, 'highly'),\n",
       " (0.2174602882849021, 'awesome'),\n",
       " (0.22330198231093915, 'amazing'),\n",
       " (0.2829962038957392, 'outstanding'),\n",
       " (0.40739338700174405, 'masterpiece')]"
      ]
     },
     "execution_count": 17,
     "metadata": {},
     "output_type": "execute_result"
    }
   ],
   "source": [
    "# most \"positive\" unigrams\n",
    "wordSort[-5:]"
   ]
  },
  {
   "cell_type": "code",
   "execution_count": 18,
   "id": "56d9e605",
   "metadata": {},
   "outputs": [],
   "source": [
    "def accuracy(predictions, labels):\n",
    "    correct = 0\n",
    "    for i in range(len(predictions)):\n",
    "        if predictions[i] == labels[i]:\n",
    "            correct += 1\n",
    "    return correct/len(labels)"
   ]
  },
  {
   "cell_type": "code",
   "execution_count": 19,
   "id": "ba0fbebc",
   "metadata": {},
   "outputs": [
    {
     "data": {
      "text/plain": [
       "0.2061242210644601"
      ]
     },
     "execution_count": 19,
     "metadata": {},
     "output_type": "execute_result"
    }
   ],
   "source": [
    "# convert predictions (floats) to int and check accuracy\n",
    "predictions = list(map(int, predictions))\n",
    "accuracy(predictions, y_test)"
   ]
  },
  {
   "cell_type": "markdown",
   "id": "c36eac2d",
   "metadata": {},
   "source": [
    "## bigram"
   ]
  },
  {
   "cell_type": "code",
   "execution_count": 20,
   "id": "5749534f",
   "metadata": {},
   "outputs": [],
   "source": [
    "wordCount = defaultdict(int)\n",
    "punctuation = set(string.punctuation)\n",
    "for d in train_data:\n",
    "    r = ''.join([c for c in d['text'].lower() if not c in punctuation])\n",
    "    ws = r.split()\n",
    "    ws2 = [' '.join(x) for x in list(zip(ws[:-1],ws[1:]))]\n",
    "    for w in ws2:\n",
    "        wordCount[w] += 1\n",
    "\n",
    "counts = [(wordCount[w], w) for w in wordCount]\n",
    "counts.sort()\n",
    "counts.reverse()"
   ]
  },
  {
   "cell_type": "code",
   "execution_count": 21,
   "id": "fae1d7be",
   "metadata": {},
   "outputs": [],
   "source": [
    "words = [x[1] for x in counts[:1000]]"
   ]
  },
  {
   "cell_type": "code",
   "execution_count": 22,
   "id": "fcaff558",
   "metadata": {},
   "outputs": [],
   "source": [
    "wordId = dict(zip(words, range(len(words))))\n",
    "wordSet = set(words)"
   ]
  },
  {
   "cell_type": "code",
   "execution_count": 23,
   "id": "263e939e",
   "metadata": {},
   "outputs": [],
   "source": [
    "def featureBi(datum):\n",
    "    feat = [0]*len(words)\n",
    "    r = ''.join([c for c in datum['text'].lower() if not c in punctuation])\n",
    "    ws = r.split()\n",
    "    ws2 = [' '.join(x) for x in list(zip(ws[:-1],ws[1:]))]\n",
    "    for w in ws2:\n",
    "        if w in words:\n",
    "            feat[wordId[w]] += 1\n",
    "    feat.append(1) #offset\n",
    "    return feat"
   ]
  },
  {
   "cell_type": "code",
   "execution_count": null,
   "id": "2c8144a6",
   "metadata": {},
   "outputs": [],
   "source": []
  }
 ],
 "metadata": {
  "kernelspec": {
   "display_name": "Python 3 (clean)",
   "language": "python",
   "name": "python3_clean"
  },
  "language_info": {
   "codemirror_mode": {
    "name": "ipython",
    "version": 3
   },
   "file_extension": ".py",
   "mimetype": "text/x-python",
   "name": "python",
   "nbconvert_exporter": "python",
   "pygments_lexer": "ipython3",
   "version": "3.9.5"
  }
 },
 "nbformat": 4,
 "nbformat_minor": 5
}
