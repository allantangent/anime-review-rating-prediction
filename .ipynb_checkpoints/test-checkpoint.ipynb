{
 "cells": [
  {
   "cell_type": "code",
   "execution_count": 1,
   "id": "478b220e",
   "metadata": {},
   "outputs": [],
   "source": [
    "import csv\n",
    "import math\n",
    "import matplotlib.pyplot as plt\n",
    "import numpy\n",
    "import random\n",
    "import sklearn\n",
    "import string\n",
    "from collections import defaultdict\n",
    "from nltk.stem.porter import *\n",
    "from sklearn import linear_model\n",
    "from sklearn.manifold import TSNE\n",
    "from sklearn.model_selection import train_test_split\n",
    "from nltk.corpus import stopwords\n",
    "from sklearn import metrics\n",
    "from sklearn.feature_extraction.text import CountVectorizer, TfidfTransformer, TfidfVectorizer\n",
    "from sklearn.naive_bayes import MultinomialNB, ComplementNB, BernoulliNB\n",
    "from sklearn.pipeline import Pipeline\n",
    "from sklearn.tree import DecisionTreeClassifier\n",
    "from sklearn.ensemble import RandomForestClassifier\n",
    "from sklearn.model_selection import cross_val_score"
   ]
  },
  {
   "cell_type": "code",
   "execution_count": 2,
   "id": "b5e077ca",
   "metadata": {},
   "outputs": [],
   "source": [
    "# convert csv to list of dicts\n",
    "with open('final_df.csv') as f:\n",
    "    data = [{k: v for k, v in row.items()} for row in csv.DictReader(f, skipinitialspace=True)]"
   ]
  },
  {
   "cell_type": "code",
   "execution_count": 3,
   "id": "a42c717f",
   "metadata": {},
   "outputs": [
    {
     "data": {
      "text/plain": [
       "{'uid_x': '255938',\n",
       " 'profile': 'DesolatePsyche',\n",
       " 'anime_uid': '34096',\n",
       " 'text': 'First things first My reviews system is explained on a blog entry Which can be found through my profile   Im going to keep this review more of a opinion of Gintamas overall and then this season specific  Anyhow What I have always loved regarding Gintama is its content of everything I love the comedy its absurd random can be vile dirty sweet anyhow everything Have laughed countless times in this franchise Also the humor they have also is heavily reference based aka parodies of different anime shows manga live stuff real world anime production and so on Anyhow comedyparody side of this franchise i absolutely love  Now nd side of this show is the serious dramas epic battle shounens and so on There are arcs that are fully comedy arcs that are fully serious and mixtures of both Serious side is usually quite dramatic and managed to somewhat tear me up now and then Whilst the action sequences are absolute bliss as well They are just presented in a really cool manner And extra points when sometime the add artistic element  Of course it has its sliceoflife side and pseudoromance Those are weaker side but aint the focus But when sometimes those are the focus then they are done in enjoyable method  To sum up overall gintamas I love the serious side and the silly side  Art and sound voice actingostoped is something I loved in all gintamas across the board They just click with me bliss to look at bliss to hear Music oped specifically are hyped up and upbeat which generally I dont like but gintama is the exception where I love them Art is cool sometimes artistic sometimes simple It has a bit of everything that makes it enjoyable And gore is absolutely satisfying as well well the blood to be specific  Well the serious side of stories in this anime are superb in my opinion or the overall idea of story that moves now and then But wouldnt say comedic side of series story is any worse  When at times comedy side has story Its usually quite enjoyable  Regarding characters I dont have much to say other than that variety stereotypes of offstereotypes is very large As well characters with depth but as well with oddity is as well in great selection Main team Gintoki the lazy dirty slob with superb second side of seriousness and caring about friendsallies Shinpachi the poor straightmanact sidekick who adds great value to the team Kagura the battle race girl that doesnt act like girl almost at all or in another words a dirty slob girl in a sense   Now to this season specific  I found it a bit disappointing Mainly because usually in gintama we have overly serious arcs or fully comedic whilst this one had a bit of mixture of both which somewhat ruined the experience Plus the artistic presentation felt this time around a bit lacking Maybe because of another studio who knows But anyhow it didnt feel as superb Rather than gintama it felt as watching just another good battle shounen anime in modern day with simplified animation  I mean it definitely was not any bad just didnt have the punch Gintama usually has Might be because it was short series maybe because it focused too much moving on with story Itll be shame to see it finalized in this manner  Rest I pretty much loved as usual in Gintama franchise',\n",
       " 'score_x': '8',\n",
       " 'scores': \"{'Overall': '8', 'Story': '8', 'Animation': '8', 'Sound': '10', 'Character': '9', 'Enjoyment': '8'}\",\n",
       " 'text len': '3229',\n",
       " 'uid_y': '34096',\n",
       " 'title': 'Gintama.',\n",
       " 'genre': \"['Action', 'Comedy', 'Historical', 'Parody', 'Samurai', 'Sci-Fi', 'Shounen']\",\n",
       " 'episodes': '12.0',\n",
       " 'members': '139309',\n",
       " 'popularity': '800',\n",
       " 'ranked': '15.0',\n",
       " 'score_y': '8.94'}"
      ]
     },
     "execution_count": 3,
     "metadata": {},
     "output_type": "execute_result"
    }
   ],
   "source": [
    "data[0]"
   ]
  },
  {
   "cell_type": "code",
   "execution_count": 8,
   "id": "0bc23601",
   "metadata": {},
   "outputs": [],
   "source": [
    "punctuation = set(string.punctuation)\n",
    "stopwordSet = set(stopwords.words('english'))"
   ]
  },
  {
   "cell_type": "code",
   "execution_count": 9,
   "id": "bfada037",
   "metadata": {},
   "outputs": [],
   "source": [
    "def text_process(reviewText):\n",
    "    nopunc = [i for i in reviewText if i not in punctuation]\n",
    "    nopunc_text = ''.join(nopunc)\n",
    "    return [i.lower() for i in nopunc_text.split() if i.lower() not in stopwordSet]"
   ]
  },
  {
   "cell_type": "code",
   "execution_count": 10,
   "id": "60b96a85",
   "metadata": {},
   "outputs": [],
   "source": [
    "def accuracy(predictions, labels):\n",
    "    correct = 0\n",
    "    for i in range(len(predictions)):\n",
    "        if predictions[i] == labels[i]:\n",
    "            correct += 1\n",
    "    return correct/len(labels)"
   ]
  },
  {
   "cell_type": "code",
   "execution_count": 11,
   "id": "d3262cc8",
   "metadata": {},
   "outputs": [],
   "source": [
    "def MSE(predictions, labels):\n",
    "    differences = [(x-y)**2 for x,y in zip(predictions,labels)]\n",
    "    return sum(differences) / len(differences)"
   ]
  },
  {
   "cell_type": "code",
   "execution_count": 23,
   "id": "4b173240",
   "metadata": {},
   "outputs": [],
   "source": [
    "X = [' '.join(text_process(d['text'])) for d in data]\n",
    "y = [d['score_x'] for d in data]\n",
    "y = list(map(int, y))"
   ]
  },
  {
   "cell_type": "code",
   "execution_count": 57,
   "id": "7fe3461a",
   "metadata": {},
   "outputs": [],
   "source": [
    "tfidf = TfidfVectorizer(max_features=10000, ngram_range=(1,5), analyzer='char')"
   ]
  },
  {
   "cell_type": "code",
   "execution_count": 58,
   "id": "7eff89c2",
   "metadata": {},
   "outputs": [],
   "source": [
    "X_tfidf = tfidf.fit_transform(X)"
   ]
  },
  {
   "cell_type": "code",
   "execution_count": 59,
   "id": "f95b7ea4",
   "metadata": {},
   "outputs": [],
   "source": [
    "X_train, X_test, y_train, y_test = train_test_split(X_tfidf, y, test_size=0.3, random_state=0)"
   ]
  },
  {
   "cell_type": "code",
   "execution_count": 60,
   "id": "5a1b927f",
   "metadata": {},
   "outputs": [
    {
     "name": "stdout",
     "output_type": "stream",
     "text": [
      "[LibLinear].................*.*\n",
      "optimization finished, #iter = 182\n",
      "Objective value = -15615.704596\n",
      "nSV = 24739\n",
      "................*\n",
      "optimization finished, #iter = 168\n",
      "Objective value = -19830.796686\n",
      "nSV = 31361\n",
      "..........*\n",
      "optimization finished, #iter = 101\n",
      "Objective value = -23407.778808\n",
      "nSV = 41156\n",
      ".........*\n",
      "optimization finished, #iter = 99\n",
      "Objective value = -25642.175451\n",
      "nSV = 48929\n",
      ".......*\n",
      "optimization finished, #iter = 73\n",
      "Objective value = -27416.127611\n",
      "nSV = 58854\n",
      ".....*\n",
      "optimization finished, #iter = 57\n",
      "Objective value = -29019.272049\n",
      "nSV = 69129\n",
      ".....*\n",
      "optimization finished, #iter = 53\n",
      "Objective value = -29950.331288\n",
      "nSV = 78525\n",
      ".....*\n",
      "optimization finished, #iter = 52\n",
      "Objective value = -30301.958480\n",
      "nSV = 81917\n",
      ".....*\n",
      "optimization finished, #iter = 51\n",
      "Objective value = -29625.299146\n",
      "nSV = 77833\n",
      ".....*\n",
      "optimization finished, #iter = 51\n"
     ]
    },
    {
     "data": {
      "text/plain": [
       "LinearSVC(class_weight='balanced', verbose=2)"
      ]
     },
     "execution_count": 60,
     "metadata": {},
     "output_type": "execute_result"
    },
    {
     "name": "stdout",
     "output_type": "stream",
     "text": [
      "Objective value = -23958.313037\n",
      "nSV = 57935\n"
     ]
    }
   ],
   "source": [
    "from sklearn.svm import LinearSVC\n",
    "clf = LinearSVC(class_weight='balanced', verbose=2)\n",
    "clf.fit(X_train, y_train)"
   ]
  },
  {
   "cell_type": "code",
   "execution_count": 61,
   "id": "36f03c71",
   "metadata": {},
   "outputs": [],
   "source": [
    "y_pred = clf.predict(X_test)"
   ]
  },
  {
   "cell_type": "code",
   "execution_count": 62,
   "id": "9a907a5e",
   "metadata": {},
   "outputs": [
    {
     "name": "stdout",
     "output_type": "stream",
     "text": [
      "              precision    recall  f1-score   support\n",
      "\n",
      "           1       0.20      0.44      0.27       907\n",
      "           2       0.11      0.27      0.16       944\n",
      "           3       0.17      0.26      0.20      1744\n",
      "           4       0.13      0.19      0.16      1792\n",
      "           5       0.18      0.19      0.19      2599\n",
      "           6       0.23      0.19      0.21      3706\n",
      "           7       0.32      0.24      0.27      5731\n",
      "           8       0.36      0.24      0.29      7047\n",
      "           9       0.36      0.24      0.29      7343\n",
      "          10       0.51      0.69      0.58      7343\n",
      "\n",
      "    accuracy                           0.32     39156\n",
      "   macro avg       0.26      0.29      0.26     39156\n",
      "weighted avg       0.33      0.32      0.31     39156\n",
      "\n"
     ]
    }
   ],
   "source": [
    "print(metrics.classification_report(y_test, y_pred))"
   ]
  },
  {
   "cell_type": "code",
   "execution_count": 63,
   "id": "abb15f48",
   "metadata": {},
   "outputs": [
    {
     "data": {
      "text/plain": [
       "4.679691490448462"
      ]
     },
     "execution_count": 63,
     "metadata": {},
     "output_type": "execute_result"
    }
   ],
   "source": [
    "MSE(y_pred, y_test)"
   ]
  },
  {
   "cell_type": "code",
   "execution_count": null,
   "id": "cb7f8cbc",
   "metadata": {},
   "outputs": [],
   "source": []
  }
 ],
 "metadata": {
  "kernelspec": {
   "display_name": "Python 3 (clean)",
   "language": "python",
   "name": "python3_clean"
  },
  "language_info": {
   "codemirror_mode": {
    "name": "ipython",
    "version": 3
   },
   "file_extension": ".py",
   "mimetype": "text/x-python",
   "name": "python",
   "nbconvert_exporter": "python",
   "pygments_lexer": "ipython3",
   "version": "3.9.5"
  }
 },
 "nbformat": 4,
 "nbformat_minor": 5
}
