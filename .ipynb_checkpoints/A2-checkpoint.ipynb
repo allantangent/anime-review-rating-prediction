{
 "cells": [
  {
   "cell_type": "code",
   "execution_count": 38,
   "id": "b687d895",
   "metadata": {},
   "outputs": [],
   "source": [
    "import pandas as pd\n",
    "import numpy as np\n",
    "import re\n",
    "import matplotlib.pyplot as plt"
   ]
  },
  {
   "cell_type": "code",
   "execution_count": 5,
   "id": "e7a84823",
   "metadata": {},
   "outputs": [],
   "source": [
    "animes = pd.read_csv('/home/rromano/animes.csv')\n",
    "profiles = pd.read_csv('/home/rromano/profiles.csv')\n",
    "reviews = pd.read_csv('/home/rromano/reviews.csv') "
   ]
  },
  {
   "cell_type": "markdown",
   "id": "38bbc323",
   "metadata": {},
   "source": [
    "# EDA"
   ]
  },
  {
   "cell_type": "code",
   "execution_count": 6,
   "id": "e0d24428",
   "metadata": {},
   "outputs": [],
   "source": [
    "# drop non-important columns\n",
    "animes = animes.drop(['img_url', 'link', 'synopsis', 'aired'], axis=1)"
   ]
  },
  {
   "cell_type": "code",
   "execution_count": 7,
   "id": "4a05978f",
   "metadata": {},
   "outputs": [
    {
     "data": {
      "text/plain": [
       "uid              0\n",
       "title            0\n",
       "genre            0\n",
       "episodes       706\n",
       "members          0\n",
       "popularity       0\n",
       "ranked        3212\n",
       "score          579\n",
       "dtype: int64"
      ]
     },
     "execution_count": 7,
     "metadata": {},
     "output_type": "execute_result"
    }
   ],
   "source": [
    "# check for NaNs\n",
    "animes.isnull().sum()"
   ]
  },
  {
   "cell_type": "code",
   "execution_count": 8,
   "id": "f9240405",
   "metadata": {},
   "outputs": [],
   "source": [
    "anime_uids = list(animes['uid'])"
   ]
  },
  {
   "cell_type": "code",
   "execution_count": 9,
   "id": "b9d3cf1d",
   "metadata": {},
   "outputs": [],
   "source": [
    "# removing duplicates\n",
    "already_seen = set()\n",
    "ind_lst = []\n",
    "for i in range(len(anime_uids)):\n",
    "    if anime_uids[i] not in already_seen:\n",
    "        already_seen.add(anime_uids[i])\n",
    "        ind_lst.append(i)"
   ]
  },
  {
   "cell_type": "code",
   "execution_count": 10,
   "id": "1b3d9887",
   "metadata": {},
   "outputs": [],
   "source": [
    "animes = animes.iloc[ind_lst]"
   ]
  },
  {
   "cell_type": "code",
   "execution_count": 11,
   "id": "a17a2e6b",
   "metadata": {},
   "outputs": [],
   "source": [
    "# drop non-important columns\n",
    "profiles = profiles.drop(['gender', 'birthday', 'link'], axis=1)"
   ]
  },
  {
   "cell_type": "code",
   "execution_count": 12,
   "id": "0f894080",
   "metadata": {},
   "outputs": [
    {
     "data": {
      "text/plain": [
       "profile            0\n",
       "favorites_anime    0\n",
       "dtype: int64"
      ]
     },
     "execution_count": 12,
     "metadata": {},
     "output_type": "execute_result"
    }
   ],
   "source": [
    "# check for NaNs\n",
    "profiles.isnull().sum()"
   ]
  },
  {
   "cell_type": "code",
   "execution_count": 13,
   "id": "6ac9ecfc",
   "metadata": {},
   "outputs": [],
   "source": [
    "profile_names = list(profiles['profile'])"
   ]
  },
  {
   "cell_type": "code",
   "execution_count": 14,
   "id": "79b32695",
   "metadata": {},
   "outputs": [],
   "source": [
    "# removing duplicates\n",
    "seen = set()\n",
    "i_lst = []\n",
    "for i in range(len(profile_names)):\n",
    "    if profile_names[i] not in seen:\n",
    "        seen.add(profile_names[i])\n",
    "        i_lst.append(i)"
   ]
  },
  {
   "cell_type": "code",
   "execution_count": 15,
   "id": "ca16c8fc",
   "metadata": {},
   "outputs": [],
   "source": [
    "profiles = profiles.iloc[i_lst]"
   ]
  },
  {
   "cell_type": "code",
   "execution_count": 16,
   "id": "ea18db78",
   "metadata": {},
   "outputs": [],
   "source": [
    "# drop non-important columns\n",
    "reviews = reviews.drop(['link'], axis=1)"
   ]
  },
  {
   "cell_type": "code",
   "execution_count": 17,
   "id": "abbdede5",
   "metadata": {},
   "outputs": [
    {
     "data": {
      "text/plain": [
       "uid          0\n",
       "profile      0\n",
       "anime_uid    0\n",
       "text         0\n",
       "score        0\n",
       "scores       0\n",
       "dtype: int64"
      ]
     },
     "execution_count": 17,
     "metadata": {},
     "output_type": "execute_result"
    }
   ],
   "source": [
    "# check for NaNs\n",
    "reviews.isnull().sum()"
   ]
  },
  {
   "cell_type": "code",
   "execution_count": 18,
   "id": "45424133",
   "metadata": {},
   "outputs": [],
   "source": [
    "# get rid of newline characters and remove beginning of review which are the scores\n",
    "def clean_review(x):\n",
    "    temp = x.replace('\\n', '').replace('\\r','')[495:].strip()\n",
    "    return re.sub(r'[^A-Za-z ]', '', temp)"
   ]
  },
  {
   "cell_type": "code",
   "execution_count": 19,
   "id": "256ef761",
   "metadata": {},
   "outputs": [],
   "source": [
    "reviews['text'] = reviews['text'].apply(clean_review)"
   ]
  },
  {
   "cell_type": "code",
   "execution_count": 20,
   "id": "1e753a78",
   "metadata": {},
   "outputs": [],
   "source": [
    "profile_names = reviews.to_dict()['profile']"
   ]
  },
  {
   "cell_type": "code",
   "execution_count": 21,
   "id": "0501bb1f",
   "metadata": {},
   "outputs": [],
   "source": [
    "anime_uid = reviews.to_dict()['anime_uid']"
   ]
  },
  {
   "cell_type": "code",
   "execution_count": 22,
   "id": "9e6793c3",
   "metadata": {},
   "outputs": [],
   "source": [
    "# removing duplicates\n",
    "user_anime = {}\n",
    "index_list = []\n",
    "for i in range(len(profile_names)):\n",
    "    if profile_names[i] not in set(user_anime.keys()):\n",
    "        user_anime[profile_names[i]] = {anime_uid[i]}\n",
    "        index_list.append(i)\n",
    "    else:\n",
    "        if anime_uid[i] in user_anime[profile_names[i]]:\n",
    "            pass\n",
    "        else:\n",
    "            user_anime[profile_names[i]].add(anime_uid[i])\n",
    "            index_list.append(i)"
   ]
  },
  {
   "cell_type": "code",
   "execution_count": 23,
   "id": "899fbd2c",
   "metadata": {},
   "outputs": [],
   "source": [
    "reviews = reviews.iloc[index_list]"
   ]
  },
  {
   "cell_type": "code",
   "execution_count": 58,
   "id": "668d46de",
   "metadata": {},
   "outputs": [],
   "source": [
    "# merging with animes data\n",
    "final_df = reviews.merge(animes, how='left', left_on='anime_uid', right_on='uid')"
   ]
  },
  {
   "cell_type": "code",
   "execution_count": 30,
   "id": "ee95967f",
   "metadata": {},
   "outputs": [
    {
     "data": {
      "text/plain": [
       "<AxesSubplot:>"
      ]
     },
     "execution_count": 30,
     "metadata": {},
     "output_type": "execute_result"
    },
    {
     "data": {
      "image/png": "[encoded data removed]",
      "text/plain": [
       "<Figure size 432x288 with 1 Axes>"
      ]
     },
     "metadata": {
      "needs_background": "light"
     },
     "output_type": "display_data"
    }
   ],
   "source": [
    "reviews['score'].hist()"
   ]
  },
  {
   "cell_type": "code",
   "execution_count": 48,
   "id": "ce3005d2",
   "metadata": {},
   "outputs": [],
   "source": [
    "percents_rating  = []\n",
    "y = []\n",
    "for i in range(10):\n",
    "    percents_rating.append(len(reviews[reviews['score']==i+1])/len(reviews) * 100)\n",
    "    y.append(i+1)"
   ]
  },
  {
   "cell_type": "code",
   "execution_count": 52,
   "id": "d4b1f5a1",
   "metadata": {},
   "outputs": [
    {
     "data": {
      "text/plain": [
       "[<matplotlib.lines.Line2D at 0x7f888b1ff790>]"
      ]
     },
     "execution_count": 52,
     "metadata": {},
     "output_type": "execute_result"
    },
    {
     "data": {
      "image/png": "[encoded data removed]",
      "text/plain": [
       "<Figure size 432x288 with 1 Axes>"
      ]
     },
     "metadata": {
      "needs_background": "light"
     },
     "output_type": "display_data"
    }
   ],
   "source": [
    "# percent of all reviews of given rating\n",
    "plt.plot(y, percents_rating)"
   ]
  },
  {
   "cell_type": "code",
   "execution_count": 84,
   "id": "c3b13011",
   "metadata": {},
   "outputs": [
    {
     "data": {
      "text/plain": [
       "7.329737432864181"
      ]
     },
     "execution_count": 84,
     "metadata": {},
     "output_type": "execute_result"
    }
   ],
   "source": [
    "# average score of all reviews\n",
    "reviews['score'].mean()"
   ]
  },
  {
   "cell_type": "code",
   "execution_count": 85,
   "id": "beeac8f1",
   "metadata": {},
   "outputs": [
    {
     "data": {
      "text/plain": [
       "7.340660526417203"
      ]
     },
     "execution_count": 85,
     "metadata": {},
     "output_type": "execute_result"
    }
   ],
   "source": [
    "# top 10000 animes score average\n",
    "final_df[final_df['popularity'] <= 10000]['score_x'].mean()"
   ]
  },
  {
   "cell_type": "code",
   "execution_count": 86,
   "id": "a02fe928",
   "metadata": {},
   "outputs": [
    {
     "data": {
      "text/plain": [
       "7.586849761433725"
      ]
     },
     "execution_count": 86,
     "metadata": {},
     "output_type": "execute_result"
    }
   ],
   "source": [
    "# top 1000 animes score average\n",
    "final_df[final_df['popularity'] <= 1000]['score_x'].mean()"
   ]
  },
  {
   "cell_type": "code",
   "execution_count": 87,
   "id": "22960016",
   "metadata": {},
   "outputs": [
    {
     "data": {
      "text/plain": [
       "7.9737446668854615"
      ]
     },
     "execution_count": 87,
     "metadata": {},
     "output_type": "execute_result"
    }
   ],
   "source": [
    "# top 10 animes score average\n",
    "final_df[final_df['popularity'] <= 100]['score_x'].mean()"
   ]
  }
 ],
 "metadata": {
  "kernelspec": {
   "display_name": "Python 3 (clean)",
   "language": "python",
   "name": "python3_clean"
  },
  "language_info": {
   "codemirror_mode": {
    "name": "ipython",
    "version": 3
   },
   "file_extension": ".py",
   "mimetype": "text/x-python",
   "name": "python",
   "nbconvert_exporter": "python",
   "pygments_lexer": "ipython3",
   "version": "3.9.5"
  }
 },
 "nbformat": 4,
 "nbformat_minor": 5
}
