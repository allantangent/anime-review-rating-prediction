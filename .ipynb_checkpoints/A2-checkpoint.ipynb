{
 "cells": [
  {
   "cell_type": "code",
   "execution_count": 105,
   "id": "b687d895",
   "metadata": {},
   "outputs": [],
   "source": [
    "import pandas as pd\n",
    "import numpy as np\n",
    "import re"
   ]
  },
  {
   "cell_type": "code",
   "execution_count": 113,
   "id": "e7a84823",
   "metadata": {},
   "outputs": [],
   "source": [
    "animes = pd.read_csv('animes.csv')\n",
    "profiles = pd.read_csv('profiles.csv')\n",
    "reviews = pd.read_csv('reviews.csv') "
   ]
  },
  {
   "cell_type": "markdown",
   "id": "38bbc323",
   "metadata": {},
   "source": [
    "# EDA"
   ]
  },
  {
   "cell_type": "code",
   "execution_count": 114,
   "id": "e0d24428",
   "metadata": {},
   "outputs": [],
   "source": [
    "# drop non-important columns\n",
    "animes = animes.drop(['img_url', 'link', 'synopsis', 'aired'], axis=1)"
   ]
  },
  {
   "cell_type": "code",
   "execution_count": 115,
   "id": "4a05978f",
   "metadata": {},
   "outputs": [
    {
     "data": {
      "text/plain": [
       "uid              0\n",
       "title            0\n",
       "genre            0\n",
       "episodes       706\n",
       "members          0\n",
       "popularity       0\n",
       "ranked        3212\n",
       "score          579\n",
       "dtype: int64"
      ]
     },
     "execution_count": 115,
     "metadata": {},
     "output_type": "execute_result"
    }
   ],
   "source": [
    "# check for NaNs\n",
    "animes.isnull().sum()"
   ]
  },
  {
   "cell_type": "code",
   "execution_count": 116,
   "id": "f9240405",
   "metadata": {},
   "outputs": [],
   "source": [
    "anime_uids = list(animes['uid'])"
   ]
  },
  {
   "cell_type": "code",
   "execution_count": 117,
   "id": "b9d3cf1d",
   "metadata": {},
   "outputs": [],
   "source": [
    "# removing duplicates\n",
    "already_seen = set()\n",
    "ind_lst = []\n",
    "for i in range(len(anime_uids)):\n",
    "    if anime_uids[i] not in already_seen:\n",
    "        already_seen.add(anime_uids[i])\n",
    "        ind_lst.append(i)"
   ]
  },
  {
   "cell_type": "code",
   "execution_count": 118,
   "id": "1b3d9887",
   "metadata": {},
   "outputs": [],
   "source": [
    "animes = animes.iloc[ind_lst]"
   ]
  },
  {
   "cell_type": "code",
   "execution_count": 119,
   "id": "a17a2e6b",
   "metadata": {},
   "outputs": [],
   "source": [
    "# drop non-important columns\n",
    "profiles = profiles.drop(['gender', 'birthday', 'link'], axis=1)"
   ]
  },
  {
   "cell_type": "code",
   "execution_count": 120,
   "id": "0f894080",
   "metadata": {},
   "outputs": [
    {
     "data": {
      "text/plain": [
       "profile            0\n",
       "favorites_anime    0\n",
       "dtype: int64"
      ]
     },
     "execution_count": 120,
     "metadata": {},
     "output_type": "execute_result"
    }
   ],
   "source": [
    "# check for NaNs\n",
    "profiles.isnull().sum()"
   ]
  },
  {
   "cell_type": "code",
   "execution_count": 121,
   "id": "6ac9ecfc",
   "metadata": {},
   "outputs": [],
   "source": [
    "profile_names = list(profiles['profile'])"
   ]
  },
  {
   "cell_type": "code",
   "execution_count": 122,
   "id": "79b32695",
   "metadata": {},
   "outputs": [],
   "source": [
    "# removing duplicates\n",
    "seen = set()\n",
    "i_lst = []\n",
    "for i in range(len(profile_names)):\n",
    "    if profile_names[i] not in seen:\n",
    "        seen.add(profile_names[i])\n",
    "        i_lst.append(i)"
   ]
  },
  {
   "cell_type": "code",
   "execution_count": 123,
   "id": "ca16c8fc",
   "metadata": {},
   "outputs": [],
   "source": [
    "profiles = profiles.iloc[i_lst]"
   ]
  },
  {
   "cell_type": "code",
   "execution_count": 124,
   "id": "ea18db78",
   "metadata": {},
   "outputs": [],
   "source": [
    "# drop non-important columns\n",
    "reviews = reviews.drop(['link'], axis=1)"
   ]
  },
  {
   "cell_type": "code",
   "execution_count": 125,
   "id": "abbdede5",
   "metadata": {},
   "outputs": [
    {
     "data": {
      "text/plain": [
       "uid          0\n",
       "profile      0\n",
       "anime_uid    0\n",
       "text         0\n",
       "score        0\n",
       "scores       0\n",
       "dtype: int64"
      ]
     },
     "execution_count": 125,
     "metadata": {},
     "output_type": "execute_result"
    }
   ],
   "source": [
    "# check for NaNs\n",
    "reviews.isnull().sum()"
   ]
  },
  {
   "cell_type": "code",
   "execution_count": 126,
   "id": "45424133",
   "metadata": {},
   "outputs": [],
   "source": [
    "# get rid of newline characters and remove beginning of review which are the scores\n",
    "def clean_review(x):\n",
    "    temp = x.replace('\\n', '').replace('\\r','')[495:].strip()\n",
    "    return re.sub(r'[^A-Za-z ]', '', temp)"
   ]
  },
  {
   "cell_type": "code",
   "execution_count": 127,
   "id": "256ef761",
   "metadata": {},
   "outputs": [],
   "source": [
    "reviews['text'] = reviews['text'].apply(clean_review)"
   ]
  },
  {
   "cell_type": "code",
   "execution_count": 15,
   "id": "1e753a78",
   "metadata": {},
   "outputs": [],
   "source": [
    "profile_names = reviews.to_dict()['profile']"
   ]
  },
  {
   "cell_type": "code",
   "execution_count": 16,
   "id": "0501bb1f",
   "metadata": {},
   "outputs": [],
   "source": [
    "anime_uid = reviews.to_dict()['anime_uid']"
   ]
  },
  {
   "cell_type": "code",
   "execution_count": 17,
   "id": "9e6793c3",
   "metadata": {},
   "outputs": [],
   "source": [
    "# removing duplicates\n",
    "user_anime = {}\n",
    "index_list = []\n",
    "for i in range(len(profile_names)):\n",
    "    if profile_names[i] not in set(user_anime.keys()):\n",
    "        user_anime[profile_names[i]] = {anime_uid[i]}\n",
    "        index_list.append(i)\n",
    "    else:\n",
    "        if anime_uid[i] in user_anime[profile_names[i]]:\n",
    "            pass\n",
    "        else:\n",
    "            user_anime[profile_names[i]].add(anime_uid[i])\n",
    "            index_list.append(i)"
   ]
  },
  {
   "cell_type": "code",
   "execution_count": 128,
   "id": "899fbd2c",
   "metadata": {},
   "outputs": [],
   "source": [
    "reviews = reviews.iloc[index_list]"
   ]
  },
  {
   "cell_type": "code",
   "execution_count": 19,
   "id": "83c21127",
   "metadata": {},
   "outputs": [],
   "source": [
    "# final_df = reviews.merge(animes, how='left', left_on='anime_uid', right_on='uid')"
   ]
  },
  {
   "cell_type": "code",
   "execution_count": 20,
   "id": "287bf1b9",
   "metadata": {},
   "outputs": [],
   "source": [
    "# final_df = final_df.merge(profiles, how='left', on='profile')"
   ]
  },
  {
   "cell_type": "code",
   "execution_count": 130,
   "id": "2ae180c6",
   "metadata": {},
   "outputs": [],
   "source": [
    "# final_df.isnull().sum()"
   ]
  },
  {
   "cell_type": "code",
   "execution_count": 131,
   "id": "0452da40",
   "metadata": {},
   "outputs": [
    {
     "data": {
      "text/html": [
       "<div>\n",
       "<style scoped>\n",
       "    .dataframe tbody tr th:only-of-type {\n",
       "        vertical-align: middle;\n",
       "    }\n",
       "\n",
       "    .dataframe tbody tr th {\n",
       "        vertical-align: top;\n",
       "    }\n",
       "\n",
       "    .dataframe thead th {\n",
       "        text-align: right;\n",
       "    }\n",
       "</style>\n",
       "<table border=\"1\" class=\"dataframe\">\n",
       "  <thead>\n",
       "    <tr style=\"text-align: right;\">\n",
       "      <th></th>\n",
       "      <th>uid</th>\n",
       "      <th>profile</th>\n",
       "      <th>anime_uid</th>\n",
       "      <th>text</th>\n",
       "      <th>score</th>\n",
       "      <th>scores</th>\n",
       "    </tr>\n",
       "  </thead>\n",
       "  <tbody>\n",
       "    <tr>\n",
       "      <th>0</th>\n",
       "      <td>255938</td>\n",
       "      <td>DesolatePsyche</td>\n",
       "      <td>34096</td>\n",
       "      <td>First things first My reviews system is explai...</td>\n",
       "      <td>8</td>\n",
       "      <td>{'Overall': '8', 'Story': '8', 'Animation': '8...</td>\n",
       "    </tr>\n",
       "    <tr>\n",
       "      <th>1</th>\n",
       "      <td>259117</td>\n",
       "      <td>baekbeans</td>\n",
       "      <td>34599</td>\n",
       "      <td>Let me start off by saying that Made in Abyss ...</td>\n",
       "      <td>10</td>\n",
       "      <td>{'Overall': '10', 'Story': '10', 'Animation': ...</td>\n",
       "    </tr>\n",
       "    <tr>\n",
       "      <th>2</th>\n",
       "      <td>253664</td>\n",
       "      <td>skrn</td>\n",
       "      <td>28891</td>\n",
       "      <td>Art  It is great especially the actions during...</td>\n",
       "      <td>7</td>\n",
       "      <td>{'Overall': '7', 'Story': '7', 'Animation': '9...</td>\n",
       "    </tr>\n",
       "    <tr>\n",
       "      <th>3</th>\n",
       "      <td>8254</td>\n",
       "      <td>edgewalker00</td>\n",
       "      <td>2904</td>\n",
       "      <td>Story  taking place  yr from where season  tra...</td>\n",
       "      <td>9</td>\n",
       "      <td>{'Overall': '9', 'Story': '9', 'Animation': '9...</td>\n",
       "    </tr>\n",
       "    <tr>\n",
       "      <th>4</th>\n",
       "      <td>291149</td>\n",
       "      <td>aManOfCulture99</td>\n",
       "      <td>4181</td>\n",
       "      <td>Kyoto Animations greatest strength is being ab...</td>\n",
       "      <td>10</td>\n",
       "      <td>{'Overall': '10', 'Story': '10', 'Animation': ...</td>\n",
       "    </tr>\n",
       "    <tr>\n",
       "      <th>...</th>\n",
       "      <td>...</td>\n",
       "      <td>...</td>\n",
       "      <td>...</td>\n",
       "      <td>...</td>\n",
       "      <td>...</td>\n",
       "      <td>...</td>\n",
       "    </tr>\n",
       "    <tr>\n",
       "      <th>182629</th>\n",
       "      <td>146535</td>\n",
       "      <td>iHitokage</td>\n",
       "      <td>2593</td>\n",
       "      <td>You know nothing Jon Snow This is how I felt a...</td>\n",
       "      <td>10</td>\n",
       "      <td>{'Overall': '10', 'Story': '10', 'Animation': ...</td>\n",
       "    </tr>\n",
       "    <tr>\n",
       "      <th>182631</th>\n",
       "      <td>13126</td>\n",
       "      <td>Onegai</td>\n",
       "      <td>2593</td>\n",
       "      <td>So i finally decided to watch the kara no kyou...</td>\n",
       "      <td>7</td>\n",
       "      <td>{'Overall': '7', 'Story': '6', 'Animation': '9...</td>\n",
       "    </tr>\n",
       "    <tr>\n",
       "      <th>182633</th>\n",
       "      <td>127899</td>\n",
       "      <td>Murasa22</td>\n",
       "      <td>2593</td>\n",
       "      <td>This review is based on all the movies of Kara...</td>\n",
       "      <td>10</td>\n",
       "      <td>{'Overall': '10', 'Story': '9', 'Animation': '...</td>\n",
       "    </tr>\n",
       "    <tr>\n",
       "      <th>182636</th>\n",
       "      <td>286852</td>\n",
       "      <td>srry4apologizng</td>\n",
       "      <td>2593</td>\n",
       "      <td>Ufotables beautiful use of digital lighting ef...</td>\n",
       "      <td>9</td>\n",
       "      <td>{'Overall': '9', 'Story': '5', 'Animation': '1...</td>\n",
       "    </tr>\n",
       "    <tr>\n",
       "      <th>182637</th>\n",
       "      <td>193145</td>\n",
       "      <td>bellellis</td>\n",
       "      <td>2593</td>\n",
       "      <td>Based on some of the first published literary ...</td>\n",
       "      <td>10</td>\n",
       "      <td>{'Overall': '10', 'Story': '10', 'Animation': ...</td>\n",
       "    </tr>\n",
       "  </tbody>\n",
       "</table>\n",
       "<p>130519 rows × 6 columns</p>\n",
       "</div>"
      ],
      "text/plain": [
       "           uid          profile  anime_uid  \\\n",
       "0       255938   DesolatePsyche      34096   \n",
       "1       259117        baekbeans      34599   \n",
       "2       253664             skrn      28891   \n",
       "3         8254     edgewalker00       2904   \n",
       "4       291149  aManOfCulture99       4181   \n",
       "...        ...              ...        ...   \n",
       "182629  146535        iHitokage       2593   \n",
       "182631   13126           Onegai       2593   \n",
       "182633  127899         Murasa22       2593   \n",
       "182636  286852  srry4apologizng       2593   \n",
       "182637  193145        bellellis       2593   \n",
       "\n",
       "                                                     text  score  \\\n",
       "0       First things first My reviews system is explai...      8   \n",
       "1       Let me start off by saying that Made in Abyss ...     10   \n",
       "2       Art  It is great especially the actions during...      7   \n",
       "3       Story  taking place  yr from where season  tra...      9   \n",
       "4       Kyoto Animations greatest strength is being ab...     10   \n",
       "...                                                   ...    ...   \n",
       "182629  You know nothing Jon Snow This is how I felt a...     10   \n",
       "182631  So i finally decided to watch the kara no kyou...      7   \n",
       "182633  This review is based on all the movies of Kara...     10   \n",
       "182636  Ufotables beautiful use of digital lighting ef...      9   \n",
       "182637  Based on some of the first published literary ...     10   \n",
       "\n",
       "                                                   scores  \n",
       "0       {'Overall': '8', 'Story': '8', 'Animation': '8...  \n",
       "1       {'Overall': '10', 'Story': '10', 'Animation': ...  \n",
       "2       {'Overall': '7', 'Story': '7', 'Animation': '9...  \n",
       "3       {'Overall': '9', 'Story': '9', 'Animation': '9...  \n",
       "4       {'Overall': '10', 'Story': '10', 'Animation': ...  \n",
       "...                                                   ...  \n",
       "182629  {'Overall': '10', 'Story': '10', 'Animation': ...  \n",
       "182631  {'Overall': '7', 'Story': '6', 'Animation': '9...  \n",
       "182633  {'Overall': '10', 'Story': '9', 'Animation': '...  \n",
       "182636  {'Overall': '9', 'Story': '5', 'Animation': '1...  \n",
       "182637  {'Overall': '10', 'Story': '10', 'Animation': ...  \n",
       "\n",
       "[130519 rows x 6 columns]"
      ]
     },
     "execution_count": 131,
     "metadata": {},
     "output_type": "execute_result"
    }
   ],
   "source": [
    "reviews"
   ]
  },
  {
   "cell_type": "code",
   "execution_count": null,
   "id": "ee95967f",
   "metadata": {},
   "outputs": [],
   "source": []
  }
 ],
 "metadata": {
  "kernelspec": {
   "display_name": "Python 3 (clean)",
   "language": "python",
   "name": "python3_clean"
  },
  "language_info": {
   "codemirror_mode": {
    "name": "ipython",
    "version": 3
   },
   "file_extension": ".py",
   "mimetype": "text/x-python",
   "name": "python",
   "nbconvert_exporter": "python",
   "pygments_lexer": "ipython3",
   "version": "3.9.5"
  }
 },
 "nbformat": 4,
 "nbformat_minor": 5
}
